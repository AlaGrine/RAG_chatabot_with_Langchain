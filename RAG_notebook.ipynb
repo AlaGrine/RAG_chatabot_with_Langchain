{
 "cells": [
  {
   "cell_type": "markdown",
   "id": "84fb49e4-44e4-47b2-ab51-b872da8c9dcc",
   "metadata": {},
   "source": [
    "# RAG chatbot powered by 🔗 Langchain, OpenAI, Google Generative AI and Hugging Face 🤗"
   ]
  },
  {
   "cell_type": "code",
   "execution_count": null,
   "id": "7cc470a2-933b-4c34-a32a-2f467f19f123",
   "metadata": {},
   "outputs": [],
   "source": []
  },
  {
   "cell_type": "markdown",
   "id": "c337d260-e1e4-4b3e-b1e7-2aa40d48f895",
   "metadata": {},
   "source": [
    "## Table of Contents\n",
    "\n",
    "1. [Introduction](#intro)<br>\n",
    "2. [Import](#import)<br>\n",
    "3. [API keys](#apikeys)<br>\n",
    "4. [Conversational RAG Architecture](#rag_architecture)<br>\n",
    "5. [Conversational RAG Implementation](#rag_impl)<br>\n",
    "    5.1. [Document loaders](#document_loaders)<br>\n",
    "    5.2. [Text Splitters](#text_splitters)<br>\n",
    "    5.3. [Vectorsores and Embeddings](#vectorstores)<br>\n",
    "    5.4. [Retrievers](#retrievers)<br>\n",
    "    5.5. [Retrieval: put it all together](#retrieval)<br>\n",
    "    5.6. [Conversational retrieval Chain with memory](#conv_retrieval_chain)<br>\n",
    "6. [Step-by-Step approach to Conversational Retrieval Chain](#conv_retrieval_chain_details)<br>\n",
    "7. [Invoke ConversationalRetrievalChain](#conv_retrieval_chain)<br>\n",
    "8. [Streamlit applicationn](#streamlit_app)<br>\n",
    "9. [Concluding](#conclusion)"
   ]
  },
  {
   "cell_type": "code",
   "execution_count": null,
   "id": "a4dd6a58-3fcf-45a8-9631-559e7101bb6a",
   "metadata": {},
   "outputs": [],
   "source": []
  },
  {
   "cell_type": "markdown",
   "id": "fcc1e78b-ccfe-422e-b888-21e96c0510cf",
   "metadata": {},
   "source": [
    "# <a class=\"anchor\" id=\"intro\">Introduction</a>\n",
    "\n",
    "Although Large Language Models (LLMs) are powerful and capable of generating creative content, they can produce outdated or incorrect information as they are trained on static data. To overcome this limitation, Retrieval Augmented Generation (RAG) systems can be used to connect the LLM to external data and obtain more reliable answers.\n",
    "\n",
    "The aim of this project is to build a RAG chatbot in Langchain powered by [OpenAI](https://platform.openai.com/overview), [Google Generative AI](https://ai.google.dev/?hl=en) and [Hugging Face](https://huggingface.co/) **APIs**. You can can upload documents in txt, pdf, CSV, or docx formats and chat with your data. Relevant documents will be retrieved and sent to the LLM along with your follow-up questions for accurate answers.\n",
    "\n",
    "Throughout this project, we examined each component of the RAG system from document loader to conversational retrieval chain. Additionally, we developed a user interface using [streamlit](https://streamlit.io/) application."
   ]
  },
  {
   "cell_type": "markdown",
   "id": "bf591062-06bb-424b-ab0b-537f516d30fc",
   "metadata": {},
   "source": [
    "# <a class=\"anchor\" id=\"import\">Import</a>"
   ]
  },
  {
   "cell_type": "code",
   "execution_count": 1,
   "id": "079f4ed1-6e09-4d24-92a0-7a2392877289",
   "metadata": {},
   "outputs": [],
   "source": [
    "# !pip install langchain==0.1.4\n",
    "# !pip install langchain-google-genai==0.0.6\n",
    "# !pip install langchain-openai==0.0.2.post1\n",
    "# !pip install docx2txt\n",
    "# !pip install chromadb\n",
    "# !pip install huggingface_hub\n",
    "# !pip install cohere\n",
    "# !pip install streamlit==1.28.0\n",
    "# !pip install --upgrade tiktoken\n",
    "# !pip install Pillow\n",
    "# !pip install numpy"
   ]
  },
  {
   "cell_type": "code",
   "execution_count": 1,
   "id": "7561de77-3b7d-4730-b090-a924e60e61ad",
   "metadata": {},
   "outputs": [],
   "source": [
    "import warnings\n",
    "warnings.filterwarnings(\"ignore\", category=FutureWarning)\n",
    "\n",
    "import os, tempfile, glob, random\n",
    "from pathlib import Path\n",
    "from IPython.display import Markdown\n",
    "from PIL import Image\n",
    "from getpass import getpass\n",
    "import numpy as np\n",
    "from itertools import combinations\n",
    "\n",
    "# LLM: openai and google_genai\n",
    "import openai\n",
    "from langchain_openai import OpenAI, OpenAIEmbeddings, ChatOpenAI\n",
    "from langchain_google_genai import ChatGoogleGenerativeAI\n",
    "from langchain_google_genai import GoogleGenerativeAIEmbeddings\n",
    "\n",
    "# LLM: HuggingFace\n",
    "from langchain_community.embeddings import HuggingFaceInferenceAPIEmbeddings\n",
    "from langchain_community.llms import HuggingFaceHub\n",
    "\n",
    "# langchain prompts, memory, chains...\n",
    "from langchain.prompts import PromptTemplate, ChatPromptTemplate\n",
    "from langchain.chains import ConversationalRetrievalChain\n",
    "from langchain_community.chat_message_histories import StreamlitChatMessageHistory\n",
    "from operator import itemgetter\n",
    "from langchain.memory import ConversationBufferMemory\n",
    "from langchain_core.runnables import RunnableLambda, RunnableParallel, RunnablePassthrough\n",
    "from langchain.schema import Document, format_document\n",
    "from langchain_core.messages import AIMessage, HumanMessage, get_buffer_string\n",
    "\n",
    "# Document loaders\n",
    "from langchain_community.document_loaders import (\n",
    "    PyPDFLoader,\n",
    "    TextLoader,\n",
    "    DirectoryLoader,\n",
    "    CSVLoader,\n",
    "    UnstructuredExcelLoader,\n",
    "    Docx2txtLoader,\n",
    ")\n",
    "\n",
    "# Text Splitter\n",
    "from langchain.text_splitter import RecursiveCharacterTextSplitter, CharacterTextSplitter\n",
    "\n",
    "# OutputParser\n",
    "from langchain_core.output_parsers import StrOutputParser\n",
    "\n",
    "# Chroma: vectorstore\n",
    "from langchain_community.vectorstores import Chroma\n",
    "\n",
    "# Contextual Compression\n",
    "from langchain.retrievers.document_compressors import DocumentCompressorPipeline\n",
    "from langchain.text_splitter import CharacterTextSplitter\n",
    "from langchain_community.document_transformers import EmbeddingsRedundantFilter,LongContextReorder\n",
    "from langchain.retrievers.document_compressors import EmbeddingsFilter\n",
    "from langchain.retrievers import ContextualCompressionRetriever\n",
    "\n",
    "# Cohere\n",
    "from langchain.retrievers.document_compressors import CohereRerank\n",
    "from langchain_community.llms import Cohere"
   ]
  },
  {
   "cell_type": "code",
   "execution_count": 2,
   "id": "566ded47-f67d-4f5d-9b80-c07424d3a748",
   "metadata": {},
   "outputs": [],
   "source": [
    "# Data Directories: where temp files and vectorstores will be saved\n",
    "\n",
    "TMP_DIR = Path(\"./data\").resolve().parent.joinpath(\"data\", \"tmp\")\n",
    "LOCAL_VECTOR_STORE_DIR = Path(\"./data\").resolve().parent.joinpath(\"data\", \"vector_stores\")"
   ]
  },
  {
   "cell_type": "markdown",
   "id": "5b3962e7-ee44-4cec-a0fe-8bfa0ba4ed24",
   "metadata": {},
   "source": [
    "# <a class=\"anchor\" id=\"apikeys\">API Keys</a>\n",
    "\n",
    "For our application, we will need 4 API keys:\n",
    "- **OpenAI** API key: [Get an API key](https://platform.openai.com/account/api-keys)\n",
    "- **Google** API key: [Get an API key](https://makersuite.google.com/app/apikey)\n",
    "- **🤗 Hugging Face Hub** API token: [Get an Access Token](https://huggingface.co/settings/tokens)\n",
    "- **Cohere** API key: [Get an API key](https://dashboard.cohere.com/api-keys)\n",
    "\n",
    ">For security reasons, We will **NOT include** our secret keys in the notebook.\n",
    ">\n",
    ">First, we need to add the environment variables: `OPENAI_API_KEY`, `GOOGLE_API_KEY`, `HUGGINGFACEHUB_API_TOKEN` and `COHERE_API_KEY`.\n",
    ">\n",
    ">Next, we load them as follows."
   ]
  },
  {
   "cell_type": "code",
   "execution_count": 3,
   "id": "d370697b-60d9-4a83-a3f3-f01576eafdb0",
   "metadata": {},
   "outputs": [
    {
     "name": "stdout",
     "output_type": "stream",
     "text": [
      "\n",
      "[INFO]: OPENAI_API_KEY retrieved successfully.\n",
      "\n",
      "[INFO]: GOOGLE_API_KEY retrieved successfully.\n",
      "\n",
      "[INFO]: HUGGINGFACEHUB_API_TOKEN retrieved successfully.\n",
      "\n",
      "[INFO]: COHERE_API_KEY retrieved successfully.\n"
     ]
    }
   ],
   "source": [
    "# Get environment variables: OPENAI_API_KEY, GOOGLE_API_KEY, HUGGINGFACEHUB_API_TOKEN, and COHERE_API_KEY\n",
    "\n",
    "def get_environment_variable(key):\n",
    "    if key in os.environ:\n",
    "        value = os.environ.get(key)\n",
    "        print(f\"\\n[INFO]: {key} retrieved successfully.\")\n",
    "    else :\n",
    "        print(f\"\\n[ERROR]: {key} is not found in your environment variables.\") \n",
    "        value = getpass(f\"Insert your {key}\")\n",
    "    return value\n",
    "\n",
    "openai_api_key = get_environment_variable(\"OPENAI_API_KEY\")\n",
    "google_api_key = get_environment_variable(\"GOOGLE_API_KEY\")\n",
    "HF_key = get_environment_variable(\"HUGGINGFACEHUB_API_TOKEN\")\n",
    "cohere_api_key = get_environment_variable(\"COHERE_API_KEY\")"
   ]
  },
  {
   "cell_type": "markdown",
   "id": "83938fa0-5566-416f-ad09-920005eba2b3",
   "metadata": {},
   "source": [
    "# Why RAG?\n",
    "\n",
    "LLMs lack access to real-time information and user-specific data. \n",
    "\n",
    "Here is an example: In this [paper](https://arxiv.org/abs/2401.13795?utm_source=substack&utm_medium=email), the authors present \"Diffuse to Choose\", a novel diffusion-based image-conditioned inpainting model. \n",
    "\n",
    "Let's ask ChatGPT what \"Diffuse to Choose\" is?"
   ]
  },
  {
   "cell_type": "code",
   "execution_count": 5,
   "id": "8a9a6934-2b05-4bce-b32d-ab811e748767",
   "metadata": {},
   "outputs": [
    {
     "name": "stdout",
     "output_type": "stream",
     "text": [
      "\"Diffuse to Choose\" is not a commonly used phrase or term. Without further context, it is difficult to determine its exact meaning. It may be a combination of the words \"diffuse\" and \"choose,\" suggesting that one should approach decision-making in a calm and open-minded manner. Diffusing could refer to dispersing or releasing tension, emotions, or thoughts before making a choice, allowing for clearer thinking and consideration of different options. However, it is important to note that this interpretation is speculative, as the phrase is not widely recognized.\n"
     ]
    }
   ],
   "source": [
    "# Let's start with a direct API call to OpenAI.\n",
    "# https://platform.openai.com/docs/quickstart?context=python\n",
    "\n",
    "from openai import OpenAI\n",
    "try:\n",
    "    client = OpenAI() # defaults to getting the key using os.environ.get(\"OPENAI_API_KEY\")\n",
    "except:\n",
    "    client = OpenAI(api_key=openai_api_key) # if OPENAI_API_KEY is not created as environment variable\n",
    "\n",
    "completion = client.chat.completions.create(\n",
    "  model=\"gpt-3.5-turbo\",\n",
    "  messages=[\n",
    "    {\"role\": \"system\", \"content\": 'what is \"Diffuse to Choose\"?'},\n",
    "  ]\n",
    ")\n",
    "\n",
    "print(completion.choices[0].message.content)"
   ]
  },
  {
   "cell_type": "markdown",
   "id": "62caf593-4377-4bcc-92ee-0eb7513a7c59",
   "metadata": {},
   "source": [
    "# <a class=\"anchor\" id=\"rag_architecture\">Conversational RAG Architecture</a>\n",
    "\n",
    "Here is an illustration of the architecture and the workflow of the RAG chatbot that we will be building using Langchain."
   ]
  },
  {
   "cell_type": "code",
   "execution_count": 6,
   "id": "af2a2254-a5f6-4f1b-93d1-698e0ff367b5",
   "metadata": {},
   "outputs": [
    {
     "data": {
      "image/png": "[encoded data removed]",
      "text/plain": [
       "<PIL.PngImagePlugin.PngImageFile image mode=RGBA size=1240x1840>"
      ]
     },
     "execution_count": 6,
     "metadata": {},
     "output_type": "execute_result"
    }
   ],
   "source": [
    "Image.open(\"./data/docs/RAG_architecture.png\")"
   ]
  },
  {
   "cell_type": "markdown",
   "id": "2fb04c67-3839-407f-85d3-77fc478dc580",
   "metadata": {},
   "source": [
    "There are two main blocks in the RAG architecture:\n",
    "- The first block includes a document loader, text splitter, vector store, and retriever. It loads external documents, converts them into numerical representations (embeddings), and stores them in a vector store (Chroma vector database).\n",
    "- The second block comprises LLMs, memory, and prompt templates. It interfaces with the retriever to retrieve documents similar to the query, augments the LLM prompt with these documents, and communicates with the LLM to obtain a relevant answer.\n",
    "\n",
    "Here are the main steps in the RAG workflow:\n",
    "\n",
    "- **(1), (2), (3) and (4):** The standalone question prompt is formated with the follow-up question and chat history and passed to the LLM, which will rephrase the follow-up question to get a standalone question.\\\n",
    "For instance, the chat history comprises a user's question, \"What does DTC stand for?\" and the AI's response, \"DTC stands for Diffuse to Choose\". The follow-up question may be, \"Please provide more details about **it**, including **its** use cases and implementation\". The LLM rephrases this question and replaces it with DTC to obtain the following standalone question: \"What are the use cases and implementation of Diffuse to Choose (DTC)?\"\n",
    "\n",
    "- **(5), (6), (7) and (8):** The next step is to search for relevant information. The retriever compares the embeddings of the standalone question with the Chroma vectorstore. Relevant documents are retrieved.\n",
    "  \n",
    "- **(9) and (10):** The LLM prompt is augmented with retrieved documents (and chat history) and passed to the LLM in order to obtain a reliable answer.\n",
    "\n",
    "- **(11):** The memory is updated with the human's query (follow-up question) and the AI's answer.\n",
    "\n",
    "We will dive deeper into each component and each step in the following sections."
   ]
  },
  {
   "cell_type": "markdown",
   "id": "3bd8dfdf-79b3-4f89-807c-f6e4a8f6b341",
   "metadata": {},
   "source": [
    "# <a class=\"anchor\" id=\"rag_impl\">Conversational RAG Implementation</a>"
   ]
  },
  {
   "cell_type": "markdown",
   "id": "aad0a166-83f1-4a1b-961a-b0aeb8eb368b",
   "metadata": {},
   "source": [
    "## Retrieval\n",
    "\n",
    "Retrieval includes: document loaders, text splitting into chunks, vector stores and embeddings, and finally retrievers."
   ]
  },
  {
   "cell_type": "markdown",
   "id": "4b79bcb0-1e7f-4c3c-a8b3-28fb28da6e9c",
   "metadata": {},
   "source": [
    "## <a class=\"anchor\" id=\"document_loaders\">Document loaders</a>\n",
    "\n",
    "LangChain offers more than 80 [document loaders](https://python.langchain.com/docs/integrations/document_loaders) to simplify the process of loading data from various sources. These sources include the web, cloud services like AWS S3, local files (such as CSV and JSON), git, emails, and more.\n",
    "\n",
    "For our application, we will use the `DirectoryLoader` to retrieve files from a temporary directory (TMP_DIR). The documents can be in txt, pdf, CSV, or docx format. The loader class for each format will be defined in the `loader_cls` parameter. For instance, `TextLoader` is used for txt files.\n"
   ]
  },
  {
   "cell_type": "code",
   "execution_count": 4,
   "id": "7350f9dc-a6e5-425a-8582-bb2e63a7e203",
   "metadata": {},
   "outputs": [],
   "source": [
    "def langchain_document_loader(TMP_DIR):\n",
    "    \"\"\"\n",
    "    Load files from TMP_DIR (temporary directory) as documents. Files can be in txt, pdf, CSV or docx format.\n",
    "    https://python.langchain.com/docs/modules/data_connection/document_loaders/file_directory\n",
    "    \"\"\"\n",
    "\n",
    "    documents = []\n",
    "\n",
    "    txt_loader = DirectoryLoader(\n",
    "        TMP_DIR.as_posix(), glob=\"**/*.txt\", loader_cls=TextLoader, show_progress=True\n",
    "    )\n",
    "    documents.extend(txt_loader.load())\n",
    "\n",
    "    pdf_loader = DirectoryLoader(\n",
    "        TMP_DIR.as_posix(), glob=\"**/*.pdf\", loader_cls=PyPDFLoader, show_progress=True\n",
    "    )\n",
    "    documents.extend(pdf_loader.load())\n",
    "\n",
    "    csv_loader = DirectoryLoader(\n",
    "        TMP_DIR.as_posix(), glob=\"**/*.csv\", loader_cls=CSVLoader, show_progress=True,\n",
    "        loader_kwargs={\"encoding\":\"utf8\"}\n",
    "    )\n",
    "    documents.extend(csv_loader.load())\n",
    "\n",
    "    doc_loader = DirectoryLoader(\n",
    "        TMP_DIR.as_posix(),\n",
    "        glob=\"**/*.docx\",\n",
    "        loader_cls=Docx2txtLoader,\n",
    "        show_progress=True,\n",
    "    )\n",
    "    documents.extend(doc_loader.load())\n",
    "    return documents"
   ]
  },
  {
   "cell_type": "code",
   "execution_count": 5,
   "id": "ef24d1db-d0c7-4e11-9331-30130fa58305",
   "metadata": {},
   "outputs": [
    {
     "name": "stderr",
     "output_type": "stream",
     "text": [
      "0it [00:00, ?it/s]\n",
      "100%|████████████████████████████████████████████████████████████████████████████████████| 1/1 [00:00<00:00,  1.36it/s]\n",
      "0it [00:00, ?it/s]\n",
      "0it [00:00, ?it/s]"
     ]
    },
    {
     "name": "stdout",
     "output_type": "stream",
     "text": [
      "\n",
      "Number of documents: 18\n"
     ]
    },
    {
     "name": "stderr",
     "output_type": "stream",
     "text": [
      "\n"
     ]
    }
   ],
   "source": [
    "# load documents\n",
    "\n",
    "documents = langchain_document_loader(TMP_DIR)\n",
    "print(f\"\\nNumber of documents: {len(documents)}\")"
   ]
  },
  {
   "cell_type": "code",
   "execution_count": 8,
   "id": "eb6adc5d-a367-4b4a-a77a-9c11438ccf68",
   "metadata": {},
   "outputs": [
    {
     "data": {
      "text/markdown": [
       "**Document[1]** \n",
       "\n",
       " **Page content** (first 1000 character):\n",
       "\n",
       "shot diffusion inpainting methods as well as few-shot diffu-\n",
       "sion personalization algorithms like DreamPaint.\n",
       "1. Introduction\n",
       "The ever-growing demand for online shopping underscores\n",
       "the need for a more immersive shopping experience, allow-\n",
       "ing shoppers to virtually ‘try’ any product from any cate-\n",
       "gory (clothes, shoes, furniture, decoration, etc.) within their\n",
       "personal environments. The concept of a Virtual Try-All\n",
       "(Vit-All) model hinges on its functionality as an advanced\n",
       "semantic image composition tool. In practice, this involves\n",
       "taking an image from a user, selecting a region within that\n",
       "image, and using a reference product image from an online\n",
       "catalog to semantically insert the product into the selected\n",
       "area while preserving its details. For such a model to be\n",
       "effective, it must fulfill three primary conditions: 1) oper-\n",
       "ate in any ’in-the-wild’ user image (not only on staged stu-\n",
       "dios or professional human model images with predefined\n",
       "poses), and reference image, 2) integrate the  ...\n",
       "\n",
       "**Metadata:**\n",
       "\n",
       "{'source': 'C:\\\\Users\\\\alaed\\\\OneDrive\\\\Bureau\\\\DOC_ALA\\\\_TRAINING\\\\LLM_LangChain_OpenAI\\\\projects\\\\My_apps\\\\RAG-chatbot\\\\data\\\\tmp\\\\2024-01-24-VirtualTryAll.pdf', 'page': 1}"
      ],
      "text/plain": [
       "<IPython.core.display.Markdown object>"
      ]
     },
     "execution_count": 8,
     "metadata": {},
     "output_type": "execute_result"
    }
   ],
   "source": [
    "# Display a random document\n",
    "\n",
    "import random\n",
    "random_document_id = random.choice(range(len(documents)))\n",
    "\n",
    "Markdown(f\"**Document[{random_document_id}]** \\n\\n **Page content** (first 1000 character):\\n\\n\" +\\\n",
    "         documents[random_document_id].page_content[0:1000] + \" ...\"  +\\\n",
    "         \"\\n\\n**Metadata:**\\n\\n\" + str(documents[random_document_id].metadata))"
   ]
  },
  {
   "cell_type": "markdown",
   "id": "07fbbde1-5c5e-4911-91cd-e4130ea2e684",
   "metadata": {},
   "source": [
    "## <a class=\"anchor\" id=\"text_splitters\">Text Splitters</a>\n",
    "\n",
    "The text splitter divides documents into smaller sections that fit within the model's context window.\n",
    "\n",
    "In Langchain, we can split by `token`, `character`, or even split `code` such as Java, JavaScript, and PHP.\n",
    "\n",
    "It is recommended to use the [RecursiveCharacterTextSplitter](https://python.langchain.com/docs/modules/data_connection/document_transformers/recursive_text_splitter) for generic text. It splits documents using a list of characters, such as \"\\n\\n\", \"\\n\" and \" \", in a specific order until the resulting chunks are small enough. This approach helps to maintain the semantic relationship between paragraphs, sentences, and words by keeping them together as much as possible.\n",
    "\n",
    "To ensure consistency, we use a small overlap between two chunks. This allows for the same context to be found at the end of one chunk and the start of the other."
   ]
  },
  {
   "cell_type": "code",
   "execution_count": 9,
   "id": "b6acb7ab-d388-429c-93d2-b1288f060128",
   "metadata": {},
   "outputs": [
    {
     "name": "stdout",
     "output_type": "stream",
     "text": [
      "number of chunks: 45\n"
     ]
    }
   ],
   "source": [
    "# Create a RecursiveCharacterTextSplitter\n",
    "text_splitter = RecursiveCharacterTextSplitter(\n",
    "    separators = [\"\\n\\n\", \"\\n\", \" \", \"\"],    \n",
    "    chunk_size = 1600,\n",
    "    chunk_overlap= 200\n",
    ")\n",
    "\n",
    "# Text splitting\n",
    "chunks = text_splitter.split_documents(documents=documents)\n",
    "print(f\"number of chunks: {len(chunks)}\")"
   ]
  },
  {
   "cell_type": "markdown",
   "id": "b1e775dc-44f8-48b0-a9d2-a7fcbd471381",
   "metadata": {},
   "source": [
    "To calculate the number of tokens in chunks, we can use [tiktoken](https://github.com/openai/tiktoken), a fast BPE tokeniser for OpenAI models."
   ]
  },
  {
   "cell_type": "code",
   "execution_count": 11,
   "id": "6133bd86-3142-4108-b6e5-f59011ab7b7b",
   "metadata": {},
   "outputs": [],
   "source": [
    "# !pip install --upgrade tiktoken\n",
    "\n",
    "import tiktoken\n",
    "def tiktoken_tokens(documents,model=\"gpt-3.5-turbo\"):\n",
    "    \"\"\"Use tiktoken (tokeniser for OpenAI models) to return a list of token lengths per document.\"\"\"    \n",
    "    encoding = tiktoken.encoding_for_model(model) # returns the encoding used by the model.\n",
    "    \n",
    "    tokens_length = [len(encoding.encode(documents[i].page_content)) for i in range(len(documents))]\n",
    "\n",
    "    return tokens_length"
   ]
  },
  {
   "cell_type": "code",
   "execution_count": 12,
   "id": "a4910115-ece1-4f7f-830c-dd90c97e73b0",
   "metadata": {},
   "outputs": [
    {
     "name": "stdout",
     "output_type": "stream",
     "text": [
      "Number of tokens - Average : 291\n",
      "Number of tokens - 25% percentile : 165\n",
      "Number of tokens - 50% percentile : 350\n",
      "Number of tokens - 75% percentile : 373\n",
      "\n",
      "Max_tokens for gpt-3.5-turbo: 4096\n"
     ]
    }
   ],
   "source": [
    "chunks_length = tiktoken_tokens(chunks,model=\"gpt-3.5-turbo\")\n",
    "\n",
    "print(f\"Number of tokens - Average : {int(np.mean(chunks_length))}\")\n",
    "print(f\"Number of tokens - 25% percentile : {int(np.quantile(chunks_length,0.25))}\")\n",
    "print(f\"Number of tokens - 50% percentile : {int(np.quantile(chunks_length,0.5))}\")\n",
    "print(f\"Number of tokens - 75% percentile : {int(np.quantile(chunks_length,0.75))}\")\n",
    "print(\"\\nMax_tokens for gpt-3.5-turbo: 4096\")"
   ]
  },
  {
   "cell_type": "markdown",
   "id": "c3fa3ddb-3105-451b-ae2d-d9da016c8459",
   "metadata": {},
   "source": [
    "## <a class=\"anchor\" id=\"vectorstores\">Vectorsores and Embeddings</a>\n",
    "\n",
    "The document has been divided into small, meaningful chunks. To conduct a relevancy search, which means retrieving the most similar chunks to the query, we will first generate **embeddings** for these chunks and then store them in a **vectorstore**."
   ]
  },
  {
   "cell_type": "markdown",
   "id": "be401e8d-11f7-4c25-99c1-96870389e515",
   "metadata": {},
   "source": [
    "### Text embeddings\n",
    "\n",
    "Embeddings are numerical representations of text data in a high-dimensional vector space. For instance, the size of the embeddings vector size for OpenAI's text-embedding-ada-002 model is 1536.\n",
    "\n",
    "To identify the most similar documents to a query, we can search for vectors with the highest similarity to the query's embeddings. Cosine similarity is commonly used to measure the similarity between two vectors.\n",
    "\n",
    "[OpenAI](https://python.langchain.com/docs/integrations/text_embedding/openai), [Google Generative AI](https://python.langchain.com/docs/integrations/text_embedding/google_generative_ai) and [Huggin Face](https://python.langchain.com/docs/integrations/text_embedding/huggingfacehub) offer distinct embedding models.\n",
    "\n",
    "In Langchain, we can connect to the embeddings API endpoint by specifying the name of the embedding model. The following models will be used: \n",
    "\n",
    "|  Provider   |  Model | Vector dimension | Price\n",
    "| -------- | ------- | ------- | -------\n",
    "| OpenAI  | [text-embedding-ada-002](https://platform.openai.com/docs/guides/embeddings/embedding-models)    | 1536 | **$0.00010 / 1K tokens.**\n",
    "| Google  | [models/embedding-001](https://ai.google.dev/models/gemini?hl=en)    | 768 | **Rate limit:** 1500 requests per minute.\n",
    "| Hugging Face    | [thenlper/gte-large](https://huggingface.co/thenlper/gte-large) | 1024 | **free**"
   ]
  },
  {
   "cell_type": "code",
   "execution_count": 6,
   "id": "cab6d39d-37ec-463d-ae0e-1d78f6c84ea9",
   "metadata": {},
   "outputs": [],
   "source": [
    "def select_embeddings_model(LLM_service=\"OpenAI\"):\n",
    "    \"\"\"Connect to the embeddings API endpoint by specifying the name of the embedding model.\"\"\"\n",
    "    if LLM_service == \"OpenAI\":\n",
    "        embeddings = OpenAIEmbeddings(\n",
    "            model='text-embedding-ada-002',\n",
    "            api_key=openai_api_key)\n",
    "\n",
    "    if LLM_service == \"Google\":\n",
    "        embeddings = GoogleGenerativeAIEmbeddings(\n",
    "            model=\"models/embedding-001\",\n",
    "            google_api_key=google_api_key\n",
    "        )\n",
    "    if LLM_service == \"HuggingFace\":\n",
    "        embeddings = HuggingFaceInferenceAPIEmbeddings(    \n",
    "            api_key=HF_key, \n",
    "            model_name=\"thenlper/gte-large\"\n",
    "        )\n",
    "         \n",
    "    return embeddings\n",
    "   \n",
    "embeddings_OpenAI = select_embeddings_model(LLM_service=\"OpenAI\")\n",
    "embeddings_google = select_embeddings_model(LLM_service=\"Google\")\n",
    "embeddings_HuggingFace = select_embeddings_model(LLM_service=\"HuggingFace\")"
   ]
  },
  {
   "cell_type": "markdown",
   "id": "e6a4f8be-37c0-4e9c-9dc8-877d0f9c9683",
   "metadata": {},
   "source": [
    "Let's see some examples."
   ]
  },
  {
   "cell_type": "code",
   "execution_count": 14,
   "id": "f64f6c3f-7134-46de-8794-fa110c4b5320",
   "metadata": {},
   "outputs": [
    {
     "name": "stdout",
     "output_type": "stream",
     "text": [
      "Similarty of sentences (0, 1): 0.904\n",
      "Similarty of sentences (0, 2): 0.679\n",
      "Similarty of sentences (1, 2): 0.687\n"
     ]
    }
   ],
   "source": [
    "sentences = [\"I like pets.\",\n",
    "             \"Pets bring joy to our lives.\",\n",
    "             \"Langchain is a framework for developing applications powered by LLMs.\"]\n",
    "# 1. Calculate embedding vectors\n",
    "embedding_vectors = [embeddings_google.embed_query(sentence) for sentence in sentences]\n",
    "\n",
    "for combination in list(combinations(range(len(sentences)),2)):\n",
    "    # 2. Calculate similarity using dot product from numpy:\n",
    "    dot_prodduct = round(np.dot(embedding_vectors[combination[0]], embedding_vectors[combination[1]]),3)\n",
    "    print(f\"Similarty of sentences {combination}: {dot_prodduct}\")"
   ]
  },
  {
   "cell_type": "markdown",
   "id": "f059bc16-76ae-4148-b9f8-06a933976e0e",
   "metadata": {},
   "source": [
    "As we can see: The more similar the sentences are, the higher the scores."
   ]
  },
  {
   "cell_type": "markdown",
   "id": "6bf008b0-215b-46e0-b247-ca5229c1f6bb",
   "metadata": {},
   "source": [
    "### Vectorstores\n",
    "\n",
    "A vectorstore is a database used to store embedding vectors. It allows for searching vectors that are most similar to the query's embeddings.\n",
    "\n",
    "There are several open-source options for vector storage. We will use the [Chroma](https://python.langchain.com/docs/integrations/vectorstores/chroma) vector database."
   ]
  },
  {
   "cell_type": "code",
   "execution_count": 60,
   "id": "574cfae9-185f-4150-a5b3-d0ad2ce656c8",
   "metadata": {},
   "outputs": [],
   "source": [
    "def create_vectorstore(embeddings,documents,vectorstore_name):\n",
    "    \"\"\"Create a Chroma vector database.\"\"\"\n",
    "    persist_directory = (LOCAL_VECTOR_STORE_DIR.as_posix() + \"/\" + vectorstore_name)\n",
    "    vector_store = Chroma.from_documents(\n",
    "        documents=documents,\n",
    "        embedding=embeddings,\n",
    "        persist_directory=persist_directory\n",
    "    )\n",
    "    return vector_store,new_vectorstore_name"
   ]
  },
  {
   "cell_type": "code",
   "execution_count": 63,
   "id": "88624ee0-fad4-4bec-83d6-3ffd4e26d255",
   "metadata": {},
   "outputs": [
    {
     "name": "stdout",
     "output_type": "stream",
     "text": [
      "Vit_All_Google_Embeddings_1\n",
      "vector_store_google: 270 chunks.\n",
      "CPU times: total: 266 ms\n",
      "Wall time: 1.76 s\n"
     ]
    }
   ],
   "source": [
    "%%time\n",
    "\n",
    "create_vectorstores = True # change to True to create vectorstores\n",
    "\n",
    "if create_vectorstores:\n",
    "    vector_store_OpenAI,_ = create_vectorstore(\n",
    "        embeddings=embeddings_OpenAI,\n",
    "        documents = chunks,\n",
    "        vectorstore_name=\"Vit_All_OpenAI_Embeddings\",\n",
    "    )\n",
    "    print(\"vector_store_OpenAI:\",vector_store_OpenAI._collection.count(),\"chunks.\")\n",
    "    \n",
    "    vector_store_google,new_vectorstore_name = create_vectorstore(\n",
    "        embeddings=embeddings_google,\n",
    "        documents = chunks,\n",
    "        vectorstore_name=\"Vit_All_Google_Embeddings\"\n",
    "    )\n",
    "    print(\"vector_store_google:\",vector_store_google._collection.count(),\"chunks.\")\n",
    "    \n",
    "    vector_store_HF = create_vectorstore(\n",
    "        embeddings=embeddings_HuggingFace,\n",
    "        documents = chunks,\n",
    "        vectorstore_name=\"Vit_All_HF_Embeddings\"\n",
    "    )\n",
    "    print(\"vector_store_HF:\",vector_store_HF._collection.count(),\"chunks.\")\n",
    "    print(\"\")"
   ]
  },
  {
   "cell_type": "markdown",
   "id": "45928602-1e64-4b9c-8afc-85ddc157fde0",
   "metadata": {},
   "source": [
    "#### Load Chroma vectorstore\n",
    "\n",
    "Chroma vectorstore can be loaded as follows:"
   ]
  },
  {
   "cell_type": "code",
   "execution_count": 11,
   "id": "fe65980d-b69f-4430-9fee-eef36f45b825",
   "metadata": {},
   "outputs": [
    {
     "name": "stdout",
     "output_type": "stream",
     "text": [
      "vector_store_OpenAI: 45 chunks.\n",
      "vector_store_google: 45 chunks.\n",
      "vector_store_HF: 45 chunks.\n"
     ]
    }
   ],
   "source": [
    "vector_store_OpenAI = Chroma(\n",
    "    persist_directory = LOCAL_VECTOR_STORE_DIR.as_posix() + \"/Vit_All_OpenAI_Embeddings\",\n",
    "    embedding_function=embeddings_OpenAI)\n",
    "print(\"vector_store_OpenAI:\",vector_store_OpenAI._collection.count(),\"chunks.\")\n",
    "\n",
    "vector_store_google = Chroma(\n",
    "    persist_directory = LOCAL_VECTOR_STORE_DIR.as_posix() + \"/Vit_All_Google_Embeddings\",\n",
    "    embedding_function=embeddings_google)\n",
    "print(\"vector_store_google:\",vector_store_google._collection.count(),\"chunks.\")\n",
    "\n",
    "vector_store_HF = Chroma(\n",
    "    persist_directory = LOCAL_VECTOR_STORE_DIR.as_posix() + \"/Vit_All_HF_Embeddings\",\n",
    "    embedding_function=embeddings_HuggingFace)\n",
    "print(\"vector_store_HF:\",vector_store_HF._collection.count(),\"chunks.\")"
   ]
  },
  {
   "cell_type": "markdown",
   "id": "35e9d482-43cd-49a5-ac01-809eaeee28c4",
   "metadata": {},
   "source": [
    "#### Similiraty search\n",
    "\n",
    "`Similarity search` assists in finding documents that are similar to a query. The process involves creating an embedding vector for the query and comparing it to all the different vectors in the vector store. The **k** most similar vectors are then selected (default k = 4).\n",
    "\n",
    "The LLM (ChatGPT, Google-gemini...) will receive these documents along with the question to provide a more reliable response.\n",
    "\n",
    "Later, we will optimize the retrieved documents by applying contextual compression."
   ]
  },
  {
   "cell_type": "code",
   "execution_count": 12,
   "id": "5dc1719d-607a-4bf2-bd00-c9bce6691167",
   "metadata": {},
   "outputs": [],
   "source": [
    "def print_documents(docs,search_with_score=False):\n",
    "    \"\"\"helper function to print documents.\"\"\"\n",
    "    if search_with_score:\n",
    "        # used for similarity_search_with_score\n",
    "        print(\n",
    "            f\"\\n{'-' * 100}\\n\".join(\n",
    "                [f\"Document {i+1}:\\n\\n\" + doc[0].page_content +\"\\n\\nscore:\"+str(round(doc[-1],3))+\"\\n\" \n",
    "                 for i, doc in enumerate(docs)]\n",
    "            )\n",
    "        )\n",
    "    else:\n",
    "        # used for similarity_search or max_marginal_relevance_search\n",
    "        print(\n",
    "            f\"\\n{'-' * 100}\\n\".join(\n",
    "                [f\"Document {i+1}:\\n\\n\" + doc.page_content \n",
    "                 for i, doc in enumerate(docs)]\n",
    "            )\n",
    "        )     "
   ]
  },
  {
   "cell_type": "code",
   "execution_count": 19,
   "id": "64625e75-16a9-49e2-916a-cdf042d894ed",
   "metadata": {},
   "outputs": [
    {
     "name": "stdout",
     "output_type": "stream",
     "text": [
      "Document 1:\n",
      "\n",
      "on incorporating fine-grained features from the reference\n",
      "image directly into the latent feature maps of the main dif-\n",
      "fusion model, alongside with a perceptual loss to further\n",
      "preserve the reference item’s details. We conduct extensive\n",
      "testing on both in-house and publicly available datasets,\n",
      "and show that Diffuse to Choose is superior to existing zero-\n",
      "1arXiv:2401.13795v1  [cs.CV]  24 Jan 2024\n",
      "\n",
      "score:0.521\n",
      "\n",
      "----------------------------------------------------------------------------------------------------\n",
      "Document 2:\n",
      "\n",
      "Figure 18. Additional examples showcasing different products.\n",
      "7\n",
      "\n",
      "score:0.555\n",
      "\n",
      "----------------------------------------------------------------------------------------------------\n",
      "Document 3:\n",
      "\n",
      "proach that few-shot fine-tunes the U-Net of Stable Diffu-\n",
      "sion, but it is not suitable for real-time applications.\n",
      "Diffusion Based Image Editing . Creating realistic com-\n",
      "posites by superimposing an object from one image onto\n",
      "another is a common practice in photo editing and is closely\n",
      "3\n",
      "\n",
      "score:0.555\n",
      "\n",
      "----------------------------------------------------------------------------------------------------\n",
      "Document 4:\n",
      "\n",
      "Diffuse to Choose: Enriching Image Conditioned Inpainting in Latent Diffusion\n",
      "Models for Virtual Try-All\n",
      "Supplementary Material\n",
      "5.1. Masking Strategy During Training and Infer-\n",
      "ence\n",
      "During training, with equal probability, we alternate be-\n",
      "tween a fine-grained mask (where we only mask the item\n",
      "specifically) and bounding box shaped masks (covering the\n",
      "largest bounding box spanned by the fine-grained mask).\n",
      "For each case, we stitch the reference image within the\n",
      "largest rectangular shape inside the mask. This approach\n",
      "is straightforward in the case of rectangular masks. How-\n",
      "ever, for fine-grained masks, we calculate the largest rect-\n",
      "angular area within the binary mask. Initially, we construct\n",
      "a histogram for each row of the matrix, with each entry in\n",
      "the histogram representing the cumulative height of masked\n",
      "areas in the column up to that row. We then calculate the\n",
      "maximum area rectangle that can be formed in each his-\n",
      "togram, updating the coordinates of the largest rectangle as\n",
      "we iterate through the rows. This process ultimately yields\n",
      "the top-left and bottom-right coordinates of the largest rect-\n",
      "angle fitting inside the mask. An example is shown in Fig.\n",
      "11. During inference, we stitch the hint image within the\n",
      "largest rectangular region of the mask.\n",
      "Garment-Only Mask \n",
      " Pose Agnostic Mask \n",
      "Figure 10. Pose agnostic masking case.\n",
      "5.2. Implementation Details and Inference Perfor-\n",
      "mance\n",
      "In all our experiments, we used Stable Diffusion v1-5 [25].\n",
      "For our image encoder, we employed DINOV2 [21], which\n",
      "outputs 1536 -dimensional vectors for every patch of the ref-\n",
      "\n",
      "score:0.587\n",
      "\n"
     ]
    }
   ],
   "source": [
    "# Get most similar documents - with scores \n",
    "# Here, we use Cosine Similarity. So a lower score is better.\n",
    "\n",
    "query = 'What is Diffuse to choose?'\n",
    "docs_withScores = vector_store_google.similarity_search_with_score(query,k=4)\n",
    "\n",
    "print_documents(docs_withScores,search_with_score=True)"
   ]
  },
  {
   "cell_type": "code",
   "execution_count": 20,
   "id": "6a8ceb41-e02e-43ab-a932-88a5641cb431",
   "metadata": {},
   "outputs": [
    {
     "name": "stdout",
     "output_type": "stream",
     "text": [
      "Similarty of document_0 to the query: 0.7394\n",
      "Similarty of document_1 to the query: 0.7227\n",
      "Similarty of document_2 to the query: 0.7226\n",
      "Similarty of document_3 to the query: 0.7065\n"
     ]
    }
   ],
   "source": [
    "# Here the scores are dot products. So a higher score is better.\n",
    "\n",
    "query_embeddings = embeddings_google.embed_query(query)\n",
    "docs_embeddings = embeddings_google.embed_documents(\n",
    "    [docs_withScores[i][0].page_content \n",
    "     for i in range(len(docs_withScores))\n",
    "    ]\n",
    ")\n",
    "\n",
    "for i in range(len(docs_embeddings)):\n",
    "    dot_product = round(np.dot(query_embeddings, docs_embeddings[i]),4)\n",
    "    print(f\"Similarty of document_{i} to the query: {dot_product}\")"
   ]
  },
  {
   "cell_type": "markdown",
   "id": "6e81fa6e-172e-40e6-8166-b0ddb9b905a0",
   "metadata": {},
   "source": [
    "#### Maximum marginal relevance search (MMR) search\n",
    "\n",
    "MMR is used to ensure both similarity to the query and diversity of selected documents."
   ]
  },
  {
   "cell_type": "code",
   "execution_count": 21,
   "id": "66670c4b-ba95-43f4-832b-4c8a8ccaa934",
   "metadata": {},
   "outputs": [
    {
     "name": "stdout",
     "output_type": "stream",
     "text": [
      "Document 1:\n",
      "\n",
      "on incorporating fine-grained features from the reference\n",
      "image directly into the latent feature maps of the main dif-\n",
      "fusion model, alongside with a perceptual loss to further\n",
      "preserve the reference item’s details. We conduct extensive\n",
      "testing on both in-house and publicly available datasets,\n",
      "and show that Diffuse to Choose is superior to existing zero-\n",
      "1arXiv:2401.13795v1  [cs.CV]  24 Jan 2024\n",
      "----------------------------------------------------------------------------------------------------\n",
      "Document 2:\n",
      "\n",
      "Figure 18. Additional examples showcasing different products.\n",
      "7\n",
      "----------------------------------------------------------------------------------------------------\n",
      "Document 3:\n",
      "\n",
      "Reference Image Canny Edges \n",
      " HED Figure 16. Different reference image representations that we use on hint pathway.\n",
      "5\n",
      "----------------------------------------------------------------------------------------------------\n",
      "Document 4:\n",
      "\n",
      "4\n",
      "[32] Jiaming Song, Chenlin Meng, and Stefano Ermon.\n",
      "Denoising diffusion implicit models. arXiv preprint\n",
      "arXiv:2010.02502 , 2020. 7\n",
      "[33] Yang Song, Jascha Sohl-Dickstein, Diederik P Kingma, Ab-\n",
      "hishek Kumar, Stefano Ermon, and Ben Poole. Score-based\n",
      "generative modeling through stochastic differential equa-\n",
      "tions. arXiv preprint arXiv:2011.13456 , 2020. 2\n",
      "[34] Yizhi Song, Zhifei Zhang, Zhe Lin, Scott Cohen, Brian Price,\n",
      "Jianming Zhang, Soo Ye Kim, and Daniel Aliaga. Object-\n",
      "10\n"
     ]
    }
   ],
   "source": [
    "query = 'what is Diffuse to Choose?'\n",
    "docs_MMR = vector_store_google.max_marginal_relevance_search(query,k=4)\n",
    "\n",
    "print_documents(docs_MMR)"
   ]
  },
  {
   "cell_type": "markdown",
   "id": "dfbcb75c-7dcd-4b7e-abb4-d684f2abba1c",
   "metadata": {},
   "source": [
    "## <a class=\"anchor\" id=\"retrievers\">Retrievers</a>\n",
    "\n",
    "A [retriever](https://python.langchain.com/docs/modules/data_connection/retrievers/) is responsible for returning relevant documents to a query. \n",
    "\n",
    "We will start with a simple retriever: the **Vectorstore-backed retriever**. It uses semantic search to retrieve documents from a Vectorstore."
   ]
  },
  {
   "cell_type": "markdown",
   "id": "f0afea30-ef42-4db8-b63e-5c5af82cfbde",
   "metadata": {},
   "source": [
    "### Vectorstore-backed retriever"
   ]
  },
  {
   "cell_type": "code",
   "execution_count": 13,
   "id": "6e4a4b6f-bd0c-4e10-910a-88b7fdaf14bb",
   "metadata": {},
   "outputs": [],
   "source": [
    "def Vectorstore_backed_retriever(vectorstore,search_type=\"similarity\",k=4,score_threshold=None):\n",
    "    \"\"\"create a vectorsore-backed retriever\n",
    "    Parameters: \n",
    "        search_type: Defines the type of search that the Retriever should perform.\n",
    "            Can be \"similarity\" (default), \"mmr\", or \"similarity_score_threshold\"\n",
    "        k: number of documents to return (Default: 4) \n",
    "        score_threshold: Minimum relevance threshold for similarity_score_threshold (default=None)\n",
    "    \"\"\"\n",
    "    search_kwargs={}\n",
    "    if k is not None:\n",
    "        search_kwargs['k'] = k\n",
    "    if score_threshold is not None:\n",
    "        search_kwargs['score_threshold'] = score_threshold\n",
    "\n",
    "    retriever = vectorstore.as_retriever(\n",
    "        search_type=search_type,\n",
    "        search_kwargs=search_kwargs\n",
    "    )\n",
    "    return retriever"
   ]
  },
  {
   "cell_type": "code",
   "execution_count": 14,
   "id": "bda8e620-0c4f-4946-b88d-ed7062eac353",
   "metadata": {},
   "outputs": [],
   "source": [
    "# similarity search\n",
    "base_retriever_OpenAI = Vectorstore_backed_retriever(vector_store_OpenAI,\"similarity\",k=10)\n",
    "base_retriever_google = Vectorstore_backed_retriever(vector_store_google,\"similarity\",k=10)\n",
    "base_retriever_HF = Vectorstore_backed_retriever(vector_store_HF,\"similarity\",k=10)\n",
    "\n",
    "# # MMMR seach\n",
    "# base_retriever_OpenAI = Vectorstore_backed_retriever(vector_store_OpenAI,\"mmr\",k=10)\n",
    "# base_retriever_google = Vectorstore_backed_retriever(vector_store_google,\"mmr\",k=10)\n",
    "# base_retriever_HF = Vectorstore_backed_retriever(vector_store_HF,\"mmr\",k=10)\n",
    "\n",
    "# # similarity_score_threshold search\n",
    "# base_retriever_OpenAI = Vectorstore_backed_retriever(vector_store_OpenAI,\"similarity_score_threshold\",score_threshold=0.5,k=10)\n",
    "# base_retriever_google = Vectorstore_backed_retriever(vector_store_google,\"similarity_score_threshold\",score_threshold=0.5,k=10)\n",
    "# base_retriever_HF = Vectorstore_backed_retriever(vector_store_HF,\"similarity_score_threshold\",score_threshold=0.5,k=10)"
   ]
  },
  {
   "cell_type": "code",
   "execution_count": 18,
   "id": "5ce292f0-ec8c-47be-a554-40ebbd794d43",
   "metadata": {},
   "outputs": [
    {
     "name": "stdout",
     "output_type": "stream",
     "text": [
      "Document 1:\n",
      "\n",
      "on incorporating fine-grained features from the reference\n",
      "image directly into the latent feature maps of the main dif-\n",
      "fusion model, alongside with a perceptual loss to further\n",
      "preserve the reference item’s details. We conduct extensive\n",
      "testing on both in-house and publicly available datasets,\n",
      "and show that Diffuse to Choose is superior to existing zero-\n",
      "1arXiv:2401.13795v1  [cs.CV]  24 Jan 2024\n",
      "----------------------------------------------------------------------------------------------------\n",
      "Document 2:\n",
      "\n",
      "Figure 18. Additional examples showcasing different products.\n",
      "7\n",
      "----------------------------------------------------------------------------------------------------\n",
      "Document 3:\n",
      "\n",
      "proach that few-shot fine-tunes the U-Net of Stable Diffu-\n",
      "sion, but it is not suitable for real-time applications.\n",
      "Diffusion Based Image Editing . Creating realistic com-\n",
      "posites by superimposing an object from one image onto\n",
      "another is a common practice in photo editing and is closely\n",
      "3\n",
      "----------------------------------------------------------------------------------------------------\n",
      "Document 4:\n",
      "\n",
      "Diffuse to Choose: Enriching Image Conditioned Inpainting in Latent Diffusion\n",
      "Models for Virtual Try-All\n",
      "Supplementary Material\n",
      "5.1. Masking Strategy During Training and Infer-\n",
      "ence\n",
      "During training, with equal probability, we alternate be-\n",
      "tween a fine-grained mask (where we only mask the item\n",
      "specifically) and bounding box shaped masks (covering the\n",
      "largest bounding box spanned by the fine-grained mask).\n",
      "For each case, we stitch the reference image within the\n",
      "largest rectangular shape inside the mask. This approach\n",
      "is straightforward in the case of rectangular masks. How-\n",
      "ever, for fine-grained masks, we calculate the largest rect-\n",
      "angular area within the binary mask. Initially, we construct\n",
      "a histogram for each row of the matrix, with each entry in\n",
      "the histogram representing the cumulative height of masked\n",
      "areas in the column up to that row. We then calculate the\n",
      "maximum area rectangle that can be formed in each his-\n",
      "togram, updating the coordinates of the largest rectangle as\n",
      "we iterate through the rows. This process ultimately yields\n",
      "the top-left and bottom-right coordinates of the largest rect-\n",
      "angle fitting inside the mask. An example is shown in Fig.\n",
      "11. During inference, we stitch the hint image within the\n",
      "largest rectangular region of the mask.\n",
      "Garment-Only Mask \n",
      " Pose Agnostic Mask \n",
      "Figure 10. Pose agnostic masking case.\n",
      "5.2. Implementation Details and Inference Perfor-\n",
      "mance\n",
      "In all our experiments, we used Stable Diffusion v1-5 [25].\n",
      "For our image encoder, we employed DINOV2 [21], which\n",
      "outputs 1536 -dimensional vectors for every patch of the ref-\n",
      "----------------------------------------------------------------------------------------------------\n",
      "Document 5:\n",
      "\n",
      "Figure 13. Diffuse to Choose allows users to iteratively decorate an empty room from scratch.\n",
      "Figure 14. Diffuse to Choose allows users to iteratively try out combination of clothes.\n",
      "ing, including PBE [40] and DreamPaint, we attempted to\n",
      "employ DCCF [38]. However, its tendency to create copy-\n",
      "paste artifacts made it unsuitable for the Vit-All task, where\n",
      "semantically blending the item with its environment is as\n",
      "crucial as preserving its detailed features.\n",
      "5.8. More Examples\n",
      "We provide more qualitative examples to showcase DTC’s\n",
      "capabilities. Please see Fig. 17, 18, 15 for more examples.\n",
      "3\n",
      "----------------------------------------------------------------------------------------------------\n",
      "Document 6:\n",
      "\n",
      "Figure 17. Additional examples showcasing different products. Note that DTC can infer how the product should look like, given a zero-shot\n",
      "example.\n",
      "6\n",
      "----------------------------------------------------------------------------------------------------\n",
      "Document 7:\n",
      "\n",
      "Reference Image Canny Edges \n",
      " HED Figure 16. Different reference image representations that we use on hint pathway.\n",
      "5\n",
      "----------------------------------------------------------------------------------------------------\n",
      "Document 8:\n",
      "\n",
      "MaskMasked Source\n",
      "U-Net encoderAdapterHint\n",
      "+VAE encoder\n",
      "Source\n",
      "Figure 4. Hint signal is stitched into a blank image within the\n",
      "masked region, then summed up with latent masked input before\n",
      "fed into Auxiliary U-Net.\n",
      "using all CLIP patches instead of just the [CLS] token, em-\n",
      "ploying a larger image encoder DINOV2 [21], and adding\n",
      "a refinement loss similar to [7] alongside the diffusion loss\n",
      "given in Eq. 1. Each of these alterations incrementally im-\n",
      "proved the performance of the PBE approach.\n",
      "3.2. Design of Diffuse to Choose\n",
      "Creating the Hint Signal . Drawing inspiration from\n",
      "ControlNet [42], we propose the incorporation of a sec-\n",
      "ondary U-Net encoder, which serves as a trainable replica\n",
      "of the main U-Net encoder. In the ControlNet architec-\n",
      "ture however, the secondary U-Net is integrated directly\n",
      "into the main U-Net decoder, providing spatial condition-\n",
      "ing. In contrast, DTC demonstrates that the secondary U-\n",
      "Net, rather than providing a spatial layout, can serve to\n",
      "guide the main U-Net by exerting a potent pixel-wise influ-\n",
      "ence from the reference image during the decoding process.\n",
      "To generate the hint signal, we start by creating an image of\n",
      "zeros, identical in size to the source image, xs∈RH×W×3.\n",
      "Subsequently, we resize the reference image and insert it\n",
      "within the designated mask coordinates within the image\n",
      "of zeros. The same mask is then applied to xs, and this\n",
      "masked source image undergoes processing by the V AE en-\n",
      "coder to yield a latent representation, sized 64×64×4. The\n",
      "Hint image is subsequently processed by the Adapter mod-\n",
      "----------------------------------------------------------------------------------------------------\n",
      "Document 9:\n",
      "\n",
      "Figure 15. Some clothing try-on results. Note that DTC can handle in the wild reference and source images.\n",
      "4\n",
      "----------------------------------------------------------------------------------------------------\n",
      "Document 10:\n",
      "\n",
      "Figure 5. DTC can handle variety of e-commerce products and can generate images using in-the-wild images & references.\n",
      "6\n"
     ]
    }
   ],
   "source": [
    "# Get relevant documents\n",
    "\n",
    "query = 'what is Diffuse to Choose?'\n",
    "relevant_docs = base_retriever_google.get_relevant_documents(query)\n",
    "\n",
    "print_documents(relevant_docs)"
   ]
  },
  {
   "cell_type": "markdown",
   "id": "ba05af8b-affb-4f74-a757-507b012171b4",
   "metadata": {},
   "source": [
    "**Retrieved documents often contain irrelevant information that is not related to the query context. Removing this irrelevant information will lead to more cost-effective and accurate LLM calls.**"
   ]
  },
  {
   "cell_type": "markdown",
   "id": "1f91bcc7-cea4-42ee-841b-d1ba90d95cd2",
   "metadata": {},
   "source": [
    "### Contextual Compression Retriever\n",
    "\n",
    "The Contextual Compression Retriever removes irrelevant information that is not related to the query context.\n",
    "\n",
    "Here is the Contextual Compression Retriever process:\n",
    "1. First, it passes the query to the base retriever (a vectorstore-backed retriever) which returns initial documents.\n",
    "2. The initial documents are passed through a `Document Compressor`, which reduces or drops them altogether.\n",
    "\n",
    "The document compressor can make an [LLM call](https://python.langchain.com/docs/modules/data_connection/retrievers/contextual_compression#adding-contextual-compression-with-an-llmchainextractor) to perform contextual compression on each retrieved document. This process can be slow and costly.\n",
    "\n",
    "Instead, we will create a [Document Compressor Pipeline](https://python.langchain.com/docs/modules/data_connection/retrievers/contextual_compression#stringing-compressors-and-document-transformers-together) as follows:\n",
    "1. Transform the initial retrieved documents by splitting them into smaller chunks using `CharacterTextSplitter` with a chunk size of 500.\n",
    "2. Filter out redundant chunks using `EmbeddingsRedundantFilter`.\n",
    "3. Use `EmbeddingsFilter` to filter out the most relevant chunks to the query using similarity_threshold and K parameters. We will set k to 16.\n",
    "4. Reorder the chunks documents `LongContextReorder`, so that more relevant elements will be at the top and bottom of the list. This will improve  LLM performance, as explained [here](https://arxiv.org/abs/2307.03172)."
   ]
  },
  {
   "cell_type": "code",
   "execution_count": 15,
   "id": "a18816b7-5987-4e26-9f6a-cf13973d587f",
   "metadata": {},
   "outputs": [],
   "source": [
    "from langchain.retrievers.document_compressors import DocumentCompressorPipeline\n",
    "from langchain.text_splitter import CharacterTextSplitter\n",
    "from langchain_community.document_transformers import EmbeddingsRedundantFilter,LongContextReorder\n",
    "from langchain.retrievers.document_compressors import EmbeddingsFilter\n",
    "from langchain.retrievers import ContextualCompressionRetriever\n",
    "\n",
    "def create_compression_retriever(embeddings, base_retriever, chunk_size=500, k=16, similarity_threshold=None):\n",
    "    \"\"\"Build a ContextualCompressionRetriever.\n",
    "    We wrap the the base_retriever (a vectorstore-backed retriever) into a ContextualCompressionRetriever.\n",
    "    The compressor here is a Document Compressor Pipeline, which splits documents\n",
    "    into smaller chunks, removes redundant documents, filters out the most relevant documents,\n",
    "    and reorder the documents so that the most relevant are at the top and bottom of the list.\n",
    "    \n",
    "    Parameters:\n",
    "        embeddings: OpenAIEmbeddings, GoogleGenerativeAIEmbeddings or HuggingFaceInferenceAPIEmbeddings.\n",
    "        base_retriever: a vectorstore-backed retriever.\n",
    "        chunk_size (int): Documents will be splitted into smaller chunks using a CharacterTextSplitter with a default chunk_size of 500. \n",
    "        k (int): top k relevant chunks to the query are filtered using the EmbeddingsFilter. default =16.\n",
    "        similarity_threshold : minimum relevance threshold used by the EmbeddingsFilter.. default =None.\n",
    "    \"\"\"\n",
    "    \n",
    "    # 1. splitting documents into smaller chunks\n",
    "    splitter = CharacterTextSplitter(chunk_size=chunk_size, chunk_overlap=0, separator=\". \")\n",
    "    \n",
    "    # 2. removing redundant documents\n",
    "    redundant_filter = EmbeddingsRedundantFilter(embeddings=embeddings)\n",
    "\n",
    "    # 3. filtering based on relevance to the query    \n",
    "    relevant_filter = EmbeddingsFilter(embeddings=embeddings, k=k, similarity_threshold=similarity_threshold) # similarity_threshold and top K\n",
    "\n",
    "    # 4. Reorder the documents \n",
    "    \n",
    "    # Less relevant document will be at the middle of the list and more relevant elements at the beginning or end of the list.\n",
    "    # Reference: https://python.langchain.com/docs/modules/data_connection/retrievers/long_context_reorder\n",
    "    reordering = LongContextReorder()\n",
    "\n",
    "    # 5. Create compressor pipeline and retriever\n",
    "    \n",
    "    pipeline_compressor = DocumentCompressorPipeline(\n",
    "        transformers=[splitter, redundant_filter, relevant_filter, reordering]  \n",
    "    )\n",
    "    compression_retriever = ContextualCompressionRetriever(\n",
    "        base_compressor=pipeline_compressor, \n",
    "        base_retriever=base_retriever\n",
    "    )\n",
    "\n",
    "    return compression_retriever"
   ]
  },
  {
   "cell_type": "code",
   "execution_count": 16,
   "id": "7198668e-b68c-4858-bb08-3975cdb27dda",
   "metadata": {},
   "outputs": [
    {
     "name": "stdout",
     "output_type": "stream",
     "text": [
      "Document 1:\n",
      "\n",
      "Design of Diffuse to Choose\n",
      "Creating the Hint Signal . Drawing inspiration from\n",
      "ControlNet [42], we propose the incorporation of a sec-\n",
      "ondary U-Net encoder, which serves as a trainable replica\n",
      "of the main U-Net encoder. In the ControlNet architec-\n",
      "ture however, the secondary U-Net is integrated directly\n",
      "into the main U-Net decoder, providing spatial condition-\n",
      "ing\n",
      "----------------------------------------------------------------------------------------------------\n",
      "Document 2:\n",
      "\n",
      "Figure 18. Additional examples showcasing different products.\n",
      "7\n",
      "----------------------------------------------------------------------------------------------------\n",
      "Document 3:\n",
      "\n",
      "proach that few-shot fine-tunes the U-Net of Stable Diffu-\n",
      "sion, but it is not suitable for real-time applications.\n",
      "Diffusion Based Image Editing . Creating realistic com-\n",
      "posites by superimposing an object from one image onto\n",
      "another is a common practice in photo editing and is closely\n",
      "3\n",
      "----------------------------------------------------------------------------------------------------\n",
      "Document 4:\n",
      "\n",
      "Figure 13. Diffuse to Choose allows users to iteratively decorate an empty room from scratch.\n",
      "Figure 14. Diffuse to Choose allows users to iteratively try out combination of clothes.\n",
      "ing, including PBE [40] and DreamPaint, we attempted to\n",
      "employ DCCF [38]. However, its tendency to create copy-\n",
      "paste artifacts made it unsuitable for the Vit-All task, where\n",
      "semantically blending the item with its environment is as\n",
      "crucial as preserving its detailed features.\n",
      "5.8\n",
      "----------------------------------------------------------------------------------------------------\n",
      "Document 5:\n",
      "\n",
      "Figure 17. Additional examples showcasing different products. Note that DTC can infer how the product should look like, given a zero-shot\n",
      "example.\n",
      "6\n",
      "----------------------------------------------------------------------------------------------------\n",
      "Document 6:\n",
      "\n",
      "Reference Image Canny Edges \n",
      " HED Figure 16. Different reference image representations that we use on hint pathway.\n",
      "5\n",
      "----------------------------------------------------------------------------------------------------\n",
      "Document 7:\n",
      "\n",
      "Figure 15. Some clothing try-on results. Note that DTC can handle in the wild reference and source images.\n",
      "4\n",
      "----------------------------------------------------------------------------------------------------\n",
      "Document 8:\n",
      "\n",
      "MaskMasked Source\n",
      "U-Net encoderAdapterHint\n",
      "+VAE encoder\n",
      "Source\n",
      "Figure 4. Hint signal is stitched into a blank image within the\n",
      "masked region, then summed up with latent masked input before\n",
      "fed into Auxiliary U-Net.\n",
      "using all CLIP patches instead of just the [CLS] token, em-\n",
      "ploying a larger image encoder DINOV2 [21], and adding\n",
      "a refinement loss similar to [7] alongside the diffusion loss\n",
      "given in Eq. 1. Each of these alterations incrementally im-\n",
      "proved the performance of the PBE approach.\n",
      "3.2\n",
      "----------------------------------------------------------------------------------------------------\n",
      "Document 9:\n",
      "\n",
      "Figure 5. DTC can handle variety of e-commerce products and can generate images using in-the-wild images & references.\n",
      "6\n",
      "----------------------------------------------------------------------------------------------------\n",
      "Document 10:\n",
      "\n",
      "How-\n",
      "ever, for fine-grained masks, we calculate the largest rect-\n",
      "angular area within the binary mask. Initially, we construct\n",
      "a histogram for each row of the matrix, with each entry in\n",
      "the histogram representing the cumulative height of masked\n",
      "areas in the column up to that row. We then calculate the\n",
      "maximum area rectangle that can be formed in each his-\n",
      "togram, updating the coordinates of the largest rectangle as\n",
      "we iterate through the rows\n",
      "----------------------------------------------------------------------------------------------------\n",
      "Document 11:\n",
      "\n",
      "The same mask is then applied to xs, and this\n",
      "masked source image undergoes processing by the V AE en-\n",
      "coder to yield a latent representation, sized 64×64×4. The\n",
      "Hint image is subsequently processed by the Adapter mod-\n",
      "----------------------------------------------------------------------------------------------------\n",
      "Document 12:\n",
      "\n",
      "Masking Strategy During Training and Infer-\n",
      "ence\n",
      "During training, with equal probability, we alternate be-\n",
      "tween a fine-grained mask (where we only mask the item\n",
      "specifically) and bounding box shaped masks (covering the\n",
      "largest bounding box spanned by the fine-grained mask).\n",
      "For each case, we stitch the reference image within the\n",
      "largest rectangular shape inside the mask. This approach\n",
      "is straightforward in the case of rectangular masks\n",
      "----------------------------------------------------------------------------------------------------\n",
      "Document 13:\n",
      "\n",
      "Implementation Details and Inference Perfor-\n",
      "mance\n",
      "In all our experiments, we used Stable Diffusion v1-5 [25].\n",
      "For our image encoder, we employed DINOV2 [21], which\n",
      "outputs 1536 -dimensional vectors for every patch of the ref-\n",
      "----------------------------------------------------------------------------------------------------\n",
      "Document 14:\n",
      "\n",
      "More Examples\n",
      "We provide more qualitative examples to showcase DTC’s\n",
      "capabilities. Please see Fig. 17, 18, 15 for more examples.\n",
      "3\n",
      "----------------------------------------------------------------------------------------------------\n",
      "Document 15:\n",
      "\n",
      "on incorporating fine-grained features from the reference\n",
      "image directly into the latent feature maps of the main dif-\n",
      "fusion model, alongside with a perceptual loss to further\n",
      "preserve the reference item’s details. We conduct extensive\n",
      "testing on both in-house and publicly available datasets,\n",
      "and show that Diffuse to Choose is superior to existing zero-\n",
      "1arXiv:2401.13795v1  [cs.CV]  24 Jan 2024\n",
      "----------------------------------------------------------------------------------------------------\n",
      "Document 16:\n",
      "\n",
      "Diffuse to Choose: Enriching Image Conditioned Inpainting in Latent Diffusion\n",
      "Models for Virtual Try-All\n",
      "Supplementary Material\n",
      "5.1\n"
     ]
    }
   ],
   "source": [
    "compression_retriever_Google = create_compression_retriever(\n",
    "    embeddings=embeddings_google,\n",
    "    base_retriever=base_retriever_google,\n",
    "    k=16)\n",
    "\n",
    "query = 'what is Diffuse to Choose?'\n",
    "\n",
    "compressed_docs = compression_retriever_Google.get_relevant_documents(query)\n",
    "\n",
    "print_documents(compressed_docs)"
   ]
  },
  {
   "cell_type": "markdown",
   "id": "ad2be6e7-644d-4eee-addb-ddaa88aa0fa3",
   "metadata": {},
   "source": [
    "> **It is clear that with contextual compression the documents returned contain more relevant data to the query.**"
   ]
  },
  {
   "cell_type": "markdown",
   "id": "5aaa42b9-d3a2-4799-95a0-5400ad6b728b",
   "metadata": {},
   "source": [
    "### Cohere Reranker\n",
    "\n",
    "We will wrap our base retriever with a [ContextualCompressionRetriever](https://python.langchain.com/docs/integrations/retrievers/cohere-reranker) and use the [Cohere rerank endpoint](https://docs.cohere.com/docs/reranking) to reorder the results based on semantically **relevance** to the query."
   ]
  },
  {
   "cell_type": "code",
   "execution_count": 17,
   "id": "ec908c69-5fbf-4b14-a3cf-dbedb2a68ca0",
   "metadata": {},
   "outputs": [],
   "source": [
    "from langchain.retrievers import ContextualCompressionRetriever\n",
    "from langchain.retrievers.document_compressors import CohereRerank\n",
    "from langchain_community.llms import Cohere\n",
    "\n",
    "def CohereRerank_retriever(\n",
    "    base_retriever, \n",
    "    cohere_api_key,cohere_model=\"rerank-multilingual-v2.0\", top_n=8\n",
    "):\n",
    "    \"\"\"Build a ContextualCompressionRetriever using Cohere Rerank endpoint to reorder the results based on relevance.\n",
    "    Parameters:\n",
    "       base_retriever: a Vectorstore-backed retriever\n",
    "       cohere_api_key: the Cohere API key\n",
    "       cohere_model: The Cohere model can be either 'rerank-english-v2.0' or 'rerank-multilingual-v2.0', with the latter being the default.\n",
    "       top_n: top n results returned by Cohere rerank, default = 8.\n",
    "    \"\"\"\n",
    "    \n",
    "    compressor = CohereRerank(\n",
    "        cohere_api_key=cohere_api_key, \n",
    "        model=cohere_model, \n",
    "        top_n=top_n\n",
    "    )\n",
    "\n",
    "    retriever_Cohere = ContextualCompressionRetriever(\n",
    "        base_compressor=compressor,\n",
    "        base_retriever=base_retriever\n",
    "    )\n",
    "    return retriever_Cohere"
   ]
  },
  {
   "cell_type": "code",
   "execution_count": 18,
   "id": "5fd46269-23e9-4f35-b781-6c72e21fb49e",
   "metadata": {},
   "outputs": [
    {
     "name": "stdout",
     "output_type": "stream",
     "text": [
      "Reranking using Cohere. Vcetorstore using Google Embeddings:\n",
      "\n",
      "Document 1:\n",
      "\n",
      "Figure 13. Diffuse to Choose allows users to iteratively decorate an empty room from scratch.\n",
      "Figure 14. Diffuse to Choose allows users to iteratively try out combination of clothes.\n",
      "ing, including PBE [40] and DreamPaint, we attempted to\n",
      "employ DCCF [38]. However, its tendency to create copy-\n",
      "paste artifacts made it unsuitable for the Vit-All task, where\n",
      "semantically blending the item with its environment is as\n",
      "crucial as preserving its detailed features.\n",
      "5.8. More Examples\n",
      "We provide more qualitative examples to showcase DTC’s\n",
      "capabilities. Please see Fig. 17, 18, 15 for more examples.\n",
      "3\n",
      "----------------------------------------------------------------------------------------------------\n",
      "Document 2:\n",
      "\n",
      "on incorporating fine-grained features from the reference\n",
      "image directly into the latent feature maps of the main dif-\n",
      "fusion model, alongside with a perceptual loss to further\n",
      "preserve the reference item’s details. We conduct extensive\n",
      "testing on both in-house and publicly available datasets,\n",
      "and show that Diffuse to Choose is superior to existing zero-\n",
      "1arXiv:2401.13795v1  [cs.CV]  24 Jan 2024\n",
      "----------------------------------------------------------------------------------------------------\n",
      "Document 3:\n",
      "\n",
      "Diffuse to Choose: Enriching Image Conditioned Inpainting in Latent Diffusion\n",
      "Models for Virtual Try-All\n",
      "Supplementary Material\n",
      "5.1. Masking Strategy During Training and Infer-\n",
      "ence\n",
      "During training, with equal probability, we alternate be-\n",
      "tween a fine-grained mask (where we only mask the item\n",
      "specifically) and bounding box shaped masks (covering the\n",
      "largest bounding box spanned by the fine-grained mask).\n",
      "For each case, we stitch the reference image within the\n",
      "largest rectangular shape inside the mask. This approach\n",
      "is straightforward in the case of rectangular masks. How-\n",
      "ever, for fine-grained masks, we calculate the largest rect-\n",
      "angular area within the binary mask. Initially, we construct\n",
      "a histogram for each row of the matrix, with each entry in\n",
      "the histogram representing the cumulative height of masked\n",
      "areas in the column up to that row. We then calculate the\n",
      "maximum area rectangle that can be formed in each his-\n",
      "togram, updating the coordinates of the largest rectangle as\n",
      "we iterate through the rows. This process ultimately yields\n",
      "the top-left and bottom-right coordinates of the largest rect-\n",
      "angle fitting inside the mask. An example is shown in Fig.\n",
      "11. During inference, we stitch the hint image within the\n",
      "largest rectangular region of the mask.\n",
      "Garment-Only Mask \n",
      " Pose Agnostic Mask \n",
      "Figure 10. Pose agnostic masking case.\n",
      "5.2. Implementation Details and Inference Perfor-\n",
      "mance\n",
      "In all our experiments, we used Stable Diffusion v1-5 [25].\n",
      "For our image encoder, we employed DINOV2 [21], which\n",
      "outputs 1536 -dimensional vectors for every patch of the ref-\n",
      "----------------------------------------------------------------------------------------------------\n",
      "Document 4:\n",
      "\n",
      "MaskMasked Source\n",
      "U-Net encoderAdapterHint\n",
      "+VAE encoder\n",
      "Source\n",
      "Figure 4. Hint signal is stitched into a blank image within the\n",
      "masked region, then summed up with latent masked input before\n",
      "fed into Auxiliary U-Net.\n",
      "using all CLIP patches instead of just the [CLS] token, em-\n",
      "ploying a larger image encoder DINOV2 [21], and adding\n",
      "a refinement loss similar to [7] alongside the diffusion loss\n",
      "given in Eq. 1. Each of these alterations incrementally im-\n",
      "proved the performance of the PBE approach.\n",
      "3.2. Design of Diffuse to Choose\n",
      "Creating the Hint Signal . Drawing inspiration from\n",
      "ControlNet [42], we propose the incorporation of a sec-\n",
      "ondary U-Net encoder, which serves as a trainable replica\n",
      "of the main U-Net encoder. In the ControlNet architec-\n",
      "ture however, the secondary U-Net is integrated directly\n",
      "into the main U-Net decoder, providing spatial condition-\n",
      "ing. In contrast, DTC demonstrates that the secondary U-\n",
      "Net, rather than providing a spatial layout, can serve to\n",
      "guide the main U-Net by exerting a potent pixel-wise influ-\n",
      "ence from the reference image during the decoding process.\n",
      "To generate the hint signal, we start by creating an image of\n",
      "zeros, identical in size to the source image, xs∈RH×W×3.\n",
      "Subsequently, we resize the reference image and insert it\n",
      "within the designated mask coordinates within the image\n",
      "of zeros. The same mask is then applied to xs, and this\n",
      "masked source image undergoes processing by the V AE en-\n",
      "coder to yield a latent representation, sized 64×64×4. The\n",
      "Hint image is subsequently processed by the Adapter mod-\n",
      "----------------------------------------------------------------------------------------------------\n",
      "Document 5:\n",
      "\n",
      "proach that few-shot fine-tunes the U-Net of Stable Diffu-\n",
      "sion, but it is not suitable for real-time applications.\n",
      "Diffusion Based Image Editing . Creating realistic com-\n",
      "posites by superimposing an object from one image onto\n",
      "another is a common practice in photo editing and is closely\n",
      "3\n",
      "----------------------------------------------------------------------------------------------------\n",
      "Document 6:\n",
      "\n",
      "Figure 18. Additional examples showcasing different products.\n",
      "7\n",
      "----------------------------------------------------------------------------------------------------\n",
      "Document 7:\n",
      "\n",
      "Figure 5. DTC can handle variety of e-commerce products and can generate images using in-the-wild images & references.\n",
      "6\n",
      "----------------------------------------------------------------------------------------------------\n",
      "Document 8:\n",
      "\n",
      "Figure 15. Some clothing try-on results. Note that DTC can handle in the wild reference and source images.\n",
      "4\n"
     ]
    }
   ],
   "source": [
    "retriever_Cohere_google = CohereRerank_retriever(\n",
    "    base_retriever=base_retriever_google, \n",
    "    cohere_api_key=cohere_api_key, cohere_model=\"rerank-multilingual-v2.0\",  \n",
    "    top_n=8\n",
    ")\n",
    "\n",
    "query = 'what is Diffuse to Choose?'\n",
    "\n",
    "docs_cohere = retriever_Cohere_google.get_relevant_documents(query)\n",
    "\n",
    "print(\"Reranking using Cohere. Vcetorstore using Google Embeddings:\\n\")\n",
    "print_documents(docs_cohere)"
   ]
  },
  {
   "cell_type": "markdown",
   "id": "d1d863c0-aee2-46e7-8508-f92761f76f5f",
   "metadata": {},
   "source": [
    "## <a class=\"anchor\" id=\"retrieval\">Retrieval: put it all together</a>\n",
    "\n",
    "So far we have examined how each of the retrieval blocks operates, from loading the data to identifying the most similar and relevant documents to the query embeddings.\n",
    "\n",
    "Let's put it all together."
   ]
  },
  {
   "cell_type": "code",
   "execution_count": 19,
   "id": "cdb1a407-dd2c-4e92-b5d6-24dd70cbc18f",
   "metadata": {},
   "outputs": [],
   "source": [
    "def retrieval_blocks(\n",
    "    create_vectorstore=True,# if True a Chroma vectorstore is created, else the Chroma vectorstore will be loaded\n",
    "    LLM_service=\"OpenAI\",\n",
    "    vectorstore_name=\"Vit_All_OpenAI_Embeddings\",\n",
    "    chunk_size = 1600, chunk_overlap=200, # parameters of the RecursiveCharacterTextSplitter\n",
    "    retriever_type=\"Vectorstore_backed_retriever\",\n",
    "    base_retriever_search_type=\"similarity\", base_retriever_k=10, base_retriever_score_threshold=None,\n",
    "    compression_retriever_k=16,\n",
    "    cohere_api_key=\"***\", cohere_model=\"rerank-multilingual-v2.0\", cohere_top_n=8,\n",
    "):\n",
    "    \"\"\"\n",
    "    Rertieval includes: document loaders, text splitter, vectorstore and retriever. \n",
    "    \n",
    "    Parameters: \n",
    "        create_vectorstore (boolean): If True, a new Chroma vectorstore will be created. Otherwise, an existing vectorstore will be loaded.\n",
    "        LLM_service: OpenAI, Google or HuggingFace.\n",
    "        vectorstore_name (str): the name of the vectorstore.\n",
    "        chunk_size and chunk_overlap: parameters of the RecursiveCharacterTextSplitter, default = (1600,200).\n",
    "        \n",
    "        retriever_type (str): in [Vectorstore_backed_retriever,Contextual_compression,Cohere_reranker]\n",
    "        \n",
    "        base_retriever_search_type: search_type in [\"similarity\", \"mmr\", \"similarity_score_threshold\"], default = similarity.\n",
    "        base_retriever_k: The most similar vectors to retrieve (default k = 10).  \n",
    "        base_retriever_score_threshold: score_threshold used by the base retriever, default = None.\n",
    "\n",
    "        compression_retriever_k: top k documents returned by the compression retriever, default=16\n",
    "        \n",
    "        cohere_api_key: Cohere API key\n",
    "        cohere_model (str): The Cohere model can be either 'rerank-english-v2.0' or 'rerank-multilingual-v2.0', with the latter being the default.\n",
    "        cohere_top_n: top n results returned by Cohere rerank, default = 8.\n",
    "   \n",
    "    Output:\n",
    "        retriever.\n",
    "    \"\"\"\n",
    "    try:\n",
    "        # Create new Vectorstore (Chroma index)\n",
    "        if create_vectorstore: \n",
    "            # 1. load documents\n",
    "            documents = langchain_document_loader(TMP_DIR)\n",
    "            \n",
    "            # 2. Text Splitter: split documents to chunks\n",
    "            text_splitter = RecursiveCharacterTextSplitter(\n",
    "                separators = [\"\\n\\n\", \"\\n\", \" \", \"\"],    \n",
    "                chunk_size = chunk_size,\n",
    "                chunk_overlap= chunk_overlap\n",
    "            )\n",
    "            chunks = text_splitter.split_documents(documents=documents)\n",
    "            \n",
    "            # 3. Embeddings\n",
    "            embeddings = select_embeddings_model(LLM_service=LLM_service)\n",
    "        \n",
    "            # 4. Vectorsore: create Chroma index\n",
    "            vector_store = create_vectorstore(\n",
    "                embeddings=embeddings,\n",
    "                documents = chunks,\n",
    "                vectorstore_name=vectorstore_name,\n",
    "            )\n",
    "    \n",
    "        # 5. Load a Vectorstore (Chroma index)\n",
    "        else: \n",
    "            embeddings = select_embeddings_model(LLM_service=LLM_service)        \n",
    "            vector_store = Chroma(\n",
    "                persist_directory = LOCAL_VECTOR_STORE_DIR.as_posix() + \"/\" + vectorstore_name,\n",
    "                embedding_function=embeddings\n",
    "            )\n",
    "            \n",
    "        # 6. base retriever: Vector store-backed retriever \n",
    "        base_retriever = Vectorstore_backed_retriever(\n",
    "            vector_store,\n",
    "            search_type=base_retriever_search_type,\n",
    "            k=base_retriever_k,\n",
    "            score_threshold=base_retriever_score_threshold\n",
    "        )\n",
    "        retriever = None\n",
    "        if retriever_type==\"Vectorstore_backed_retriever\": \n",
    "            retriever = base_retriever\n",
    "    \n",
    "        # 7. Contextual Compression Retriever\n",
    "        if retriever_type==\"Contextual_compression\":    \n",
    "            retriever = create_compression_retriever(\n",
    "                embeddings=embeddings,\n",
    "                base_retriever=base_retriever,\n",
    "                k=compression_retriever_k,\n",
    "            )\n",
    "    \n",
    "        # 8. CohereRerank retriever\n",
    "        if retriever_type==\"Cohere_reranker\":\n",
    "            retriever = CohereRerank_retriever(\n",
    "                base_retriever=base_retriever, \n",
    "                cohere_api_key=cohere_api_key, \n",
    "                cohere_model=cohere_model, \n",
    "                top_n=cohere_top_n\n",
    "            )\n",
    "    \n",
    "        print(f\"\\n{retriever_type} is created successfully!\")\n",
    "        print(f\"Relevant documents will be retrieved from vectorstore ({vectorstore_name}) which uses {LLM_service} embeddings \\\n",
    "and has {vector_store._collection.count()} chunks.\")\n",
    "        \n",
    "        return retriever\n",
    "    except Exception as e:\n",
    "        print(e)"
   ]
  },
  {
   "cell_type": "markdown",
   "id": "6c59e2c4-4e89-4ac6-a638-1e38e105216a",
   "metadata": {},
   "source": [
    "## <a class=\"anchor\" id=\"conv_retrieval_chain\">Conversational retrieval Chain with memory</a>\n",
    "\n",
    "After retrieving the most relevant documents, the next step is to add them to the LLM prompt, which will be sent to the LLM.\n",
    "\n",
    "The main components to be used here are: `ChatModel`, `PromptTemplate`, `Memory` and `ConversationalRetrievalChain`."
   ]
  },
  {
   "cell_type": "markdown",
   "id": "98125371-7397-4d92-b681-0fb174860c26",
   "metadata": {},
   "source": [
    "### ChatModel\n",
    "\n",
    "The ChatModel interacts with LLMs, such as GPT3.5-turbo and Google gemini-pro.\n",
    "\n",
    "We will use the OpenAI, Google and Hugging Face APIs, and leverage the `ChatOpenAI`, `ChatGoogleGenerativeAI` and  `HuggingFaceHub` Langchain classes to instantiate the following pre-trained models:\n",
    "- **OpenAI API**: [gpt-3.5-turbo](https://platform.openai.com/docs/models/gpt-3-5-turbo), [gpt-3.5-turbo-0125](https://platform.openai.com/docs/models/gpt-3-5-turbo) and [gpt-4-turbo-preview](https://platform.openai.com/docs/models/gpt-4-and-gpt-4-turbo). Each model has a maximum token limit for both context and output (completion). The limits are 4096, 16K, and 128K, respectively.\\\n",
    "These models are paid and prices are per 1,000 tokens (~750 words). Updated pricing can be found on the [OpenAI pricing page](https://openai.com/pricing).\n",
    "- **Google Gemini API**: [gemini-pro](https://ai.google.dev/models/gemini?hl=en) with 32760 max tokens and 8192 max output tokens. \\\n",
    "Free access to Gemini pro through Google AI Studio with up to 60 requests per minute.\n",
    "- **Hugging Face Inference API**: [Mistral-7B-Instruct-v0.2](https://huggingface.co/mistralai/Mistral-7B-Instruct-v0.2), an open-source model with 7 billions parametres, fine-tuned for for conversation and question answering.\\\n",
    "This model can be accessed for **free**  through 🤗 Hub.\n",
    "\n",
    "\n",
    "|  Provider   |  Model | maximum token limit | Price\n",
    "| -------- | ------- | ------- | -------\n",
    "| OpenAI  | [gpt-3.5-turbo](https://platform.openai.com/docs/models/gpt-3-5-turbo)    | 4096 | Updated pricing can be found on the [OpenAI pricing page](https://openai.com/pricing)\n",
    "| OpenAI  | [gpt-3.5-turbo-0125](https://platform.openai.com/docs/models/gpt-3-5-turbo)   | 16K | Updated pricing can be found on the [OpenAI pricing page](https://openai.com/pricing)\n",
    "| OpenAI  | [gpt-4-turbo-preview](https://platform.openai.com/docs/models/gpt-4-and-gpt-4-turbo)  | 128K | Updated pricing can be found on the [OpenAI pricing page](https://openai.com/pricing)\n",
    "| Google  | [gemini-pro](https://ai.google.dev/models/gemini?hl=en)    | 32760  | Free access to Gemini pro through Google AI Studio with up to **60** requests per minute.\n",
    "| Hugging Face    | [Mistral-7B-Instruct-v0.2](https://huggingface.co/mistralai/Mistral-7B-Instruct-v0.2) |  |  Free access through 🤗 Hub\n",
    "\n",
    "The main parameters for all of these LLMs are:\n",
    "- **temperature:** controls the degree of randomness in token selection. Higher values increase diversity, and hence, creativity.\n",
    "- **top_k:** Selects the next token from the most probable **k** tokens by using temperature. Lower k focuses on more probable tokens. \n",
    "- **top_p:** The cumulative probability cutoff for token selection. Higher values increase diversity.\n",
    "\n",
    "Let's create a function to instantiate a chat model."
   ]
  },
  {
   "cell_type": "code",
   "execution_count": 20,
   "id": "a12cca11-c6e9-4cac-a282-27c7cf9d84e4",
   "metadata": {},
   "outputs": [],
   "source": [
    "def instantiate_LLM(LLM_provider,api_key,temperature=0.5,top_p=0.95,model_name=None):\n",
    "    \"\"\"Instantiate LLM in Langchain.\n",
    "    Parameters:\n",
    "        LLM_provider (str): the LLM provider; in [\"OpenAI\",\"Google\",\"HuggingFace\"]\n",
    "        model_name (str): in [\"gpt-3.5-turbo\", \"gpt-3.5-turbo-0125\", \"gpt-4-turbo-preview\", \n",
    "            \"gemini-pro\", \"mistralai/Mistral-7B-Instruct-v0.2\"].            \n",
    "        api_key (str): google_api_key or openai_api_key or huggingfacehub_api_token \n",
    "        temperature (float): Range: 0.0 - 1.0; default = 0.5\n",
    "        top_p (float): : Range: 0.0 - 1.0; default = 1.\n",
    "    \"\"\"\n",
    "    if LLM_provider == \"OpenAI\":\n",
    "        llm = ChatOpenAI(\n",
    "            api_key=api_key,\n",
    "            model=model_name,\n",
    "            temperature=temperature,\n",
    "            model_kwargs={\n",
    "                \"top_p\": top_p\n",
    "            }\n",
    "        )\n",
    "    if LLM_provider == \"Google\":\n",
    "        llm = ChatGoogleGenerativeAI(\n",
    "            google_api_key=api_key,\n",
    "            # model=\"gemini-pro\",\n",
    "            model=model_name,\n",
    "            temperature=temperature,\n",
    "            top_p=top_p,\n",
    "            convert_system_message_to_human=True\n",
    "        )\n",
    "    if LLM_provider == \"HuggingFace\":\n",
    "        llm = HuggingFaceHub(\n",
    "            # repo_id=\"mistralai/Mistral-7B-Instruct-v0.2\", \n",
    "            repo_id=model_name,\n",
    "            huggingfacehub_api_token=api_key,\n",
    "            model_kwargs={\n",
    "                \"temperature\":temperature,\n",
    "                \"top_p\": top_p,\n",
    "                \"do_sample\": True,\n",
    "                \"max_new_tokens\":1024\n",
    "            },\n",
    "        )\n",
    "    return llm"
   ]
  },
  {
   "cell_type": "markdown",
   "id": "b517e420",
   "metadata": {},
   "source": [
    "### Memory\n",
    "\n",
    "The memory enables the storage of chat history. This can range from a simple buffer, to storing the last K interactions or tokens, or summarising the conversation or part of it. \n",
    "\n",
    "By default, we will use a simple `ConversationBufferMemory`.\n",
    "\n",
    "For LLMs with a small maximum number of tokens, such as gpt-3-5-turbo, we will use a conversation summary buffer. This buffer keeps track of recent interactions based on tokens and summarizes older messages."
   ]
  },
  {
   "cell_type": "code",
   "execution_count": 21,
   "id": "03745908",
   "metadata": {},
   "outputs": [],
   "source": [
    "from langchain.memory import ConversationSummaryBufferMemory,ConversationBufferMemory\n",
    "\n",
    "def create_memory(model_name='gpt-3.5-turbo',memory_max_token=None):\n",
    "    \"\"\"Creates a ConversationSummaryBufferMemory for gpt-3.5-turbo\n",
    "    Creates a ConversationBufferMemory for the other models.\"\"\"\n",
    "    \n",
    "    if model_name==\"gpt-3.5-turbo\":\n",
    "        if memory_max_token is None:\n",
    "            memory_max_token = 1024 # max_tokens for 'gpt-3.5-turbo' = 4096\n",
    "        memory = ConversationSummaryBufferMemory(\n",
    "            max_token_limit=memory_max_token,\n",
    "            llm=ChatOpenAI(model_name=\"gpt-3.5-turbo\",openai_api_key=openai_api_key,temperature=0.1),\n",
    "            return_messages=True,\n",
    "            memory_key='chat_history',\n",
    "            output_key=\"answer\",\n",
    "            input_key=\"question\"\n",
    "        )\n",
    "    else:\n",
    "        memory = ConversationBufferMemory(\n",
    "            return_messages=True,\n",
    "            memory_key='chat_history',\n",
    "            output_key=\"answer\",\n",
    "            input_key=\"question\",\n",
    "        )  \n",
    "    return memory"
   ]
  },
  {
   "cell_type": "markdown",
   "id": "3653ed9f",
   "metadata": {},
   "source": [
    "- The `return_messages` is set to True so that a list of chat messages is returned (by default, these messages are concatenated and returned as a single string).\n",
    "- The `output_key` is set to 'answer', and the `input_key` is set to 'question'. This enables the memory to keep track of and save user questions and AI answers.\n",
    "\n",
    "```memory.save_context(inputs={\"question\":\"...\"},outputs={\"answer\":\"....\"}```"
   ]
  },
  {
   "cell_type": "markdown",
   "id": "99c6f07e-dc83-45ec-94c6-dc3f6dcd3c2f",
   "metadata": {},
   "source": [
    "To show how older messages are summarized if max_token_limit is exceeded, let's set a small memory_max_token."
   ]
  },
  {
   "cell_type": "code",
   "execution_count": 26,
   "id": "598a23c5",
   "metadata": {},
   "outputs": [
    {
     "data": {
      "text/plain": [
       "{'chat_history': [SystemMessage(content='The human asks what DTC stands for. The AI explains that Diffuse to Choose (DTC) is a novel diffusion inpainting approach designed for the Vit-All application, allowing users to virtually place e-commerce items in any setting with detailed blending and realistic lighting. DTC incorporates cues from the reference image into the main U-Net decoder using a secondary U-Net encoder, handling various e-commerce products and generating images from in-the-wild images and references. It outperforms existing zero-shot personalization methods, especially in preserving fine-grained details of items. The human then asks what Vit-All stands for.'),\n",
       "  AIMessage(content='Virtual Try-All')]}"
      ]
     },
     "execution_count": 26,
     "metadata": {},
     "output_type": "execute_result"
    }
   ],
   "source": [
    "# Set a small memory_max_token, just to show how older messages are summarized if max_token_limit is exceeded.\n",
    "\n",
    "memory = create_memory(model_name='gpt-3.5-turbo',memory_max_token=20)\n",
    "\n",
    "# save context\n",
    "memory.save_context(\n",
    "    inputs={\"question\":\"what does DTC stand for?\"},\n",
    "    outputs={\"answer\":\"\"\"Diffuse to Choose (DTC) is a novel diffusion inpainting approach designed for the Vit-All application, \n",
    "    which allows users to virtually place any e-commerce item in any setting, ensuring detailed, semantically coherent blending with realistic \n",
    "    lighting and shadows. It effectively incorporates fine-grained cues from the reference image into the main U-Net decoder \n",
    "    using a secondary U-Net encoder.\n",
    "    DTC can handle a variety of e-commerce products and can generate images using in-the-wild images & references. \n",
    "    It is superior to existing zero-shot personalization methods, especially in preserving the fine-grained details of items.\"\"\"}\n",
    ")\n",
    "memory.save_context(\n",
    "    inputs={\"question\":\"what does Vit-all stand for?\"},\n",
    "    outputs={\"answer\":\"Virtual Try-All\"}\n",
    ")\n",
    "\n",
    "memory.load_memory_variables({})"
   ]
  },
  {
   "cell_type": "markdown",
   "id": "1da47122-79f7-41fc-8087-0257d340b7ed",
   "metadata": {},
   "source": [
    ">The last AI message ('Virtual Try-All') is retained because it has fewer tokens than the maximum memory allowed. Previous messages are summarised and added to the System message."
   ]
  },
  {
   "cell_type": "markdown",
   "id": "38410681-82a9-4f69-857b-e59e9c1dff30",
   "metadata": {},
   "source": [
    "### Prompt templates"
   ]
  },
  {
   "cell_type": "markdown",
   "id": "ab28b4ce-0039-4d12-b3cc-e4a1aa37bb2b",
   "metadata": {},
   "source": [
    "Prompt templates generate prompts for the LLM. For our RAG chatbot, we need two templates:\n",
    "\n",
    "1. The first template asks the LLM to generate a standalone question given the chat history and a follow-up question. The `PromptTemplate` uses this template to return a string prompt when invoked.\n",
    "2. The second template includes a placeholder for the context(i.e. retrieved documents), chat history, and the user's question. It instructs the LLM to answer the question based solely on the provided context. The `ChatPromptTemplate` uses this template to return a list of chat messages."
   ]
  },
  {
   "cell_type": "markdown",
   "id": "94109873-1ea8-4375-908f-967163c0948c",
   "metadata": {},
   "source": [
    "#### PromptTemplate"
   ]
  },
  {
   "cell_type": "code",
   "execution_count": 29,
   "id": "bfe4c81f-301f-4f1c-af68-491192d7fbce",
   "metadata": {},
   "outputs": [],
   "source": [
    "standalone_question_template = \"\"\"Given the following conversation and a follow up question, \n",
    "rephrase the follow up question to be a standalone question, in its original language.\\n\\n\n",
    "Chat History:\\n{chat_history}\\n\n",
    "Follow Up Input: {question}\\n\n",
    "Standalone question:\"\"\"\n",
    "\n",
    "standalone_question_prompt = PromptTemplate(\n",
    "    input_variables=['chat_history', 'question'], \n",
    "    template=standalone_question_template\n",
    ")"
   ]
  },
  {
   "cell_type": "markdown",
   "id": "81ae66e4-aacd-4261-a5d5-8f8018d7a66a",
   "metadata": {},
   "source": [
    "Let's invoke the PromptTemplate."
   ]
  },
  {
   "cell_type": "code",
   "execution_count": 30,
   "id": "d646ba8c-fa0b-4fc0-ae8f-33284db5f5a7",
   "metadata": {},
   "outputs": [
    {
     "data": {
      "text/plain": [
       "StringPromptValue(text='Given the following conversation and a follow up question, \\nrephrase the follow up question to be a standalone question, in its original language.\\n\\n\\nChat History:\\nHuman: what does DTC stand for?\\nAI: DTC stands for Diffuse to choose.\\n\\nFollow Up Input: plaese give more details about it, including its use cases and implementation.\\n\\nStandalone question:')"
      ]
     },
     "execution_count": 30,
     "metadata": {},
     "output_type": "execute_result"
    }
   ],
   "source": [
    "memory = create_memory(model_name='gemini-pro')\n",
    "memory.save_context(\n",
    "    inputs={\"question\":\"what does DTC stand for?\"}, \n",
    "    outputs={\"answer\":\"DTC stands for Diffuse to choose.\"}\n",
    ")\n",
    "\n",
    "standalone_question_prompt.invoke(\n",
    "    {\"question\":\"plaese give more details about it, including its use cases and implementation.\",\n",
    "    \"chat_history\":memory.chat_memory})"
   ]
  },
  {
   "cell_type": "markdown",
   "id": "f93d6c84-ffcc-4dbe-8b04-68d840aa4ecf",
   "metadata": {},
   "source": [
    "As we can see, the returned prompt is a string."
   ]
  },
  {
   "cell_type": "markdown",
   "id": "2b2be543-35e8-4fdc-81db-b5d4c10523ab",
   "metadata": {},
   "source": [
    "#### ChatPromptTemplate"
   ]
  },
  {
   "cell_type": "code",
   "execution_count": 31,
   "id": "16fa7cfb-e0a4-4c47-b125-fa033c206ceb",
   "metadata": {},
   "outputs": [],
   "source": [
    "def answer_template(language=\"english\"):\n",
    "    \"\"\"Pass the standalone question along with the chat history and context \n",
    "    to the `LLM` wihch will answer\"\"\"\n",
    "    \n",
    "    template = f\"\"\"Answer the question at the end, using only the following context (delimited by <context></context>).\n",
    "Your answer must be in the language at the end. \n",
    "\n",
    "<context>\n",
    "{{chat_history}}\n",
    "\n",
    "{{context}} \n",
    "</context>\n",
    "\n",
    "Question: {{question}}\n",
    "\n",
    "Language: {language}.\n",
    "\"\"\"\n",
    "    return template"
   ]
  },
  {
   "cell_type": "code",
   "execution_count": 32,
   "id": "349b8bb2-5150-4b91-a36d-8a6474c2f608",
   "metadata": {},
   "outputs": [
    {
     "data": {
      "text/plain": [
       "ChatPromptValue(messages=[HumanMessage(content=\"Answer the question at the end, using only the following context (delimited by <context></context>).\\nYour answer must be in the language at the end. \\n\\n<context>\\nHuman: what does DTC stand for?\\nAI: DTC stands for Diffuse to choose.\\n\\n[Document(page_content='DTC use cases include...')] \\n</context>\\n\\nQuestion: plaese give more details about DTC, including its use cases and implementation.\\n\\nLanguage: english.\\n\")])"
      ]
     },
     "execution_count": 32,
     "metadata": {},
     "output_type": "execute_result"
    }
   ],
   "source": [
    "answer_prompt = ChatPromptTemplate.from_template(answer_template())\n",
    "\n",
    "# invoke the ChatPromptTemplate\n",
    "answer_prompt.invoke(\n",
    "    {\"question\":\"plaese give more details about DTC, including its use cases and implementation.\",\n",
    "     \"context\":[Document(page_content=\"DTC use cases include...\")], # the context is a list of retrieved documents.\n",
    "     \"chat_history\":memory.chat_memory}\n",
    ")"
   ]
  },
  {
   "cell_type": "markdown",
   "id": "44518bd6-0098-4467-910d-ef4a12576bda",
   "metadata": {},
   "source": [
    "The ChatPromptTemplate returns a HumanMessage. "
   ]
  },
  {
   "cell_type": "markdown",
   "id": "58977afa",
   "metadata": {},
   "source": [
    "### ConversationalRetrievalChain\n",
    "\n",
    "All the components we have built so far, including the Retriever, ChatModel or LLM, Memory and Prompts, come in handy here as they are passed as parameters to the [ConversationalRetrievalChain](https://api.python.langchain.com/en/latest/chains/langchain.chains.conversational_retrieval.base.ConversationalRetrievalChain.html#langchain.chains.conversational_retrieval.base.ConversationalRetrievalChain).\n",
    "\n",
    "The `ConversationalRetrievalChain` is a built-in chain that \"chains\" our components together, allowing us to chat with our documents. First, it passes the follow-up question and chat history to the LLM, which rephrases the question and creates a standalone query. The Retriever then retrieves relevant documents (context) based on this query. These documents, along with the standalone question and chat history, are then passed to the LLM for answering."
   ]
  },
  {
   "cell_type": "code",
   "execution_count": 33,
   "id": "356fa5ec-cc46-4019-bc6d-25c11e4c24e3",
   "metadata": {},
   "outputs": [],
   "source": [
    "# Here is an example using gemini-pro\n",
    "\n",
    "chain = ConversationalRetrievalChain.from_llm(\n",
    "    condense_question_prompt=standalone_question_prompt,\n",
    "    combine_docs_chain_kwargs={'prompt': answer_prompt},\n",
    "    condense_question_llm=instantiate_LLM(\n",
    "        LLM_provider=\"Google\",api_key=google_api_key,temperature=0.1,\n",
    "        model_name=\"gemini-pro\"\n",
    "    ),\n",
    "\n",
    "    memory=create_memory(\"gemini-pro\"),\n",
    "    retriever = base_retriever_google, \n",
    "    llm=instantiate_LLM(\n",
    "        LLM_provider=\"Google\",api_key=google_api_key,temperature=0.5,\n",
    "        model_name=\"gemini-pro\"),\n",
    "    chain_type= \"stuff\",\n",
    "    verbose= False,\n",
    "    return_source_documents=True   \n",
    ")"
   ]
  },
  {
   "cell_type": "code",
   "execution_count": 34,
   "id": "6a548fe7-8872-472d-ba07-c25df0d56a3b",
   "metadata": {},
   "outputs": [
    {
     "data": {
      "text/plain": [
       "{'question': 'what does DTC stand for?',\n",
       " 'chat_history': [HumanMessage(content='what does DTC stand for?'),\n",
       "  AIMessage(content='Diffuse to Choose')],\n",
       " 'answer': 'Diffuse to Choose',\n",
       " 'source_documents': [Document(page_content='Figure 5. DTC can handle variety of e-commerce products and can generate images using in-the-wild images & references.\\n6', metadata={'page': 5, 'source': 'C:\\\\Users\\\\alaed\\\\OneDrive\\\\Bureau\\\\DOC_ALA\\\\_TRAINING\\\\LLM_LangChain_OpenAI\\\\projects\\\\My_apps\\\\RAG-chatbot\\\\data\\\\tmp\\\\2024-01-24-VirtualTryAll.pdf'}),\n",
       "  Document(page_content='Figure 17. Additional examples showcasing different products. Note that DTC can infer how the product should look like, given a zero-shot\\nexample.\\n6', metadata={'page': 16, 'source': 'C:\\\\Users\\\\alaed\\\\OneDrive\\\\Bureau\\\\DOC_ALA\\\\_TRAINING\\\\LLM_LangChain_OpenAI\\\\projects\\\\My_apps\\\\RAG-chatbot\\\\data\\\\tmp\\\\2024-01-24-VirtualTryAll.pdf'}),\n",
       "  Document(page_content='Figure 15. Some clothing try-on results. Note that DTC can handle in the wild reference and source images.\\n4', metadata={'page': 14, 'source': 'C:\\\\Users\\\\alaed\\\\OneDrive\\\\Bureau\\\\DOC_ALA\\\\_TRAINING\\\\LLM_LangChain_OpenAI\\\\projects\\\\My_apps\\\\RAG-chatbot\\\\data\\\\tmp\\\\2024-01-24-VirtualTryAll.pdf'}),\n",
       "  Document(page_content='Figure 18. Additional examples showcasing different products.\\n7', metadata={'page': 17, 'source': 'C:\\\\Users\\\\alaed\\\\OneDrive\\\\Bureau\\\\DOC_ALA\\\\_TRAINING\\\\LLM_LangChain_OpenAI\\\\projects\\\\My_apps\\\\RAG-chatbot\\\\data\\\\tmp\\\\2024-01-24-VirtualTryAll.pdf'}),\n",
       "  Document(page_content='erence image into the primary U-Net decoder using basic\\naffine transformation layers within a latent diffusion model.\\nMoreover, we refined the PBE model for peak performance\\nachievable with straightforward image-conditioned inpaint-\\ning models. We compared DTC with upgraded PBE vari-\\nants and a few-shot personalization methods using datasets\\nlike VITONHD-NoFace and a larger in-house dataset and\\nshow that DTC outperforms existing diffusion based in-\\n8', metadata={'page': 7, 'source': 'C:\\\\Users\\\\alaed\\\\OneDrive\\\\Bureau\\\\DOC_ALA\\\\_TRAINING\\\\LLM_LangChain_OpenAI\\\\projects\\\\My_apps\\\\RAG-chatbot\\\\data\\\\tmp\\\\2024-01-24-VirtualTryAll.pdf'}),\n",
       "  Document(page_content='proach that few-shot fine-tunes the U-Net of Stable Diffu-\\nsion, but it is not suitable for real-time applications.\\nDiffusion Based Image Editing . Creating realistic com-\\nposites by superimposing an object from one image onto\\nanother is a common practice in photo editing and is closely\\n3', metadata={'page': 2, 'source': 'C:\\\\Users\\\\alaed\\\\OneDrive\\\\Bureau\\\\DOC_ALA\\\\_TRAINING\\\\LLM_LangChain_OpenAI\\\\projects\\\\My_apps\\\\RAG-chatbot\\\\data\\\\tmp\\\\2024-01-24-VirtualTryAll.pdf'}),\n",
       "  Document(page_content='Reference Image Canny Edges \\n HED Figure 16. Different reference image representations that we use on hint pathway.\\n5', metadata={'page': 15, 'source': 'C:\\\\Users\\\\alaed\\\\OneDrive\\\\Bureau\\\\DOC_ALA\\\\_TRAINING\\\\LLM_LangChain_OpenAI\\\\projects\\\\My_apps\\\\RAG-chatbot\\\\data\\\\tmp\\\\2024-01-24-VirtualTryAll.pdf'}),\n",
       "  Document(page_content='Resize & \\nStitch Reference Image \\nFind the \\nlargest \\nbbox Mask \\nInsert \\nbbox into \\nan image \\nof zeros \\nFigure 11. We find the largest rectangular bounding box inside an fine-grained binary mask. Then the same coordinates are used to stitch\\nthe reference image into an image of zeros to create the initial hint signal.\\nFigure 12. DTC allows users to manipulate different styles of the same clothing by adjusting the mask (given in the row above for each\\nimage). The first two columns display variations of the same t-shirt, showcasing it both tucked out and tucked in. The third and fourth\\ncolumns illustrate the same shirt with normal sleeves and with sleeves rolled up.\\ntrolled environments with sanitized backgrounds, and often\\nnecessitate additional inputs like pose or depth maps. Also,\\nit is already established that diffusion-based approaches are\\nsuperior to GANs in performance, possessing more compre-\\nhensive world models [41]. Consequently, diffusion-based\\nmodels are more apt for the Vit-All use case.The scope of our comparison models is intentionally lim-\\nited. Personalization models such as ELITE [35], Custom\\nDiffusion [16], DreamBooth [26], and Textual Inversion [6]\\nlack inpainting capabilities, as they aim to directly generate\\nentire views. DreamPaint [28] is the only exception with in-\\npainting support. Among the models that facilitate inpaint-\\n2', metadata={'page': 12, 'source': 'C:\\\\Users\\\\alaed\\\\OneDrive\\\\Bureau\\\\DOC_ALA\\\\_TRAINING\\\\LLM_LangChain_OpenAI\\\\projects\\\\My_apps\\\\RAG-chatbot\\\\data\\\\tmp\\\\2024-01-24-VirtualTryAll.pdf'}),\n",
       "  Document(page_content='Figure 13. Diffuse to Choose allows users to iteratively decorate an empty room from scratch.\\nFigure 14. Diffuse to Choose allows users to iteratively try out combination of clothes.\\ning, including PBE [40] and DreamPaint, we attempted to\\nemploy DCCF [38]. However, its tendency to create copy-\\npaste artifacts made it unsuitable for the Vit-All task, where\\nsemantically blending the item with its environment is as\\ncrucial as preserving its detailed features.\\n5.8. More Examples\\nWe provide more qualitative examples to showcase DTC’s\\ncapabilities. Please see Fig. 17, 18, 15 for more examples.\\n3', metadata={'page': 13, 'source': 'C:\\\\Users\\\\alaed\\\\OneDrive\\\\Bureau\\\\DOC_ALA\\\\_TRAINING\\\\LLM_LangChain_OpenAI\\\\projects\\\\My_apps\\\\RAG-chatbot\\\\data\\\\tmp\\\\2024-01-24-VirtualTryAll.pdf'}),\n",
       "  Document(page_content='mance\\nIn all our experiments, we used Stable Diffusion v1-5 [25].\\nFor our image encoder, we employed DINOV2 [21], which\\noutputs 1536 -dimensional vectors for every patch of the ref-\\nerence image, of shape 224×224×3. Thus, it yields\\n256×1536 -dimensional outputs. Additionally, we ap-\\npended the CLS token to obtain 257×1536 image condi-\\ntioning vectors. Subsequently, these vectors were processed\\nthrough a single layer of a fully connected network, which\\nwas trained from scratch, to reduce them to 257×768di-\\nmensions. We trained our model using AdamW [20] with a\\nconstant learning rate of 1e−5and used horizontal flip androtation as augmentations. To calculate the CLIP score, we\\nused ViT-B/32 [23]. Finally, the model is efficient in infer-\\nence, taking ≈6 seconds to run a single pass on an A100\\n(40GB) GPU with 40 DDIM steps.\\n5.3. The effect of masking\\nSince our approach relies on collages, the mask serves as\\na strong prior for the DTC model. As illustrated in Fig.\\n12, the use of masking enables users during inference to\\nmanipulate clothing styles. Consequently, users can guide\\nthe model to generate a t-shirt in a tucked-in style, or with\\nsleeves rolled up, among other variations.\\n5.4. Iterative Inpainting\\nDTC enables a range of enjoyable applications. For in-\\nstance, users can begin with an empty room and iteratively\\ndecorate it, designing as shown in Fig. 13. The same prin-\\nciple applies to clothing; users can generate multiple items\\nof clothing in combination with one another to experiment\\nwith different outfit combinations, as shown in Fig. 14.', metadata={'page': 11, 'source': 'C:\\\\Users\\\\alaed\\\\OneDrive\\\\Bureau\\\\DOC_ALA\\\\_TRAINING\\\\LLM_LangChain_OpenAI\\\\projects\\\\My_apps\\\\RAG-chatbot\\\\data\\\\tmp\\\\2024-01-24-VirtualTryAll.pdf'})]}"
      ]
     },
     "execution_count": 34,
     "metadata": {},
     "output_type": "execute_result"
    }
   ],
   "source": [
    "# let's invoke the chain\n",
    "response = chain.invoke({\"question\":\"what does DTC stand for?\"})\n",
    "response"
   ]
  },
  {
   "cell_type": "code",
   "execution_count": 35,
   "id": "514aa3e6-b3ad-4338-abb4-8068901a4d62",
   "metadata": {},
   "outputs": [
    {
     "data": {
      "text/plain": [
       "{'chat_history': [HumanMessage(content='what does DTC stand for?'),\n",
       "  AIMessage(content='Diffuse to Choose')]}"
      ]
     },
     "execution_count": 35,
     "metadata": {},
     "output_type": "execute_result"
    }
   ],
   "source": [
    "# Get chat history of the chain's memory\n",
    "\n",
    "chain.memory.load_memory_variables({})"
   ]
  },
  {
   "cell_type": "code",
   "execution_count": 36,
   "id": "6bf70ca8-b24e-40a4-9ceb-00a2097572b0",
   "metadata": {},
   "outputs": [
    {
     "data": {
      "text/markdown": [
       "Diffuse to Choose (DTC) is a novel image editing technique that allows users to seamlessly superimpose objects from one image onto another. This is achieved by combining a diffusion model with a hint pathway that incorporates fine-grained features from the reference image. DTC can be used for a variety of applications, such as virtual try-on, product visualization, and image editing.\n",
       "\n",
       "To implement DTC, you will need to:\n",
       "\n",
       "1. Train a diffusion model on a dataset of images.\n",
       "2. Create a hint pathway that incorporates fine-grained features from the reference image.\n",
       "3. Combine the diffusion model and the hint pathway into a single model.\n",
       "\n",
       "Once you have implemented DTC, you can use it to edit images by following these steps:\n",
       "\n",
       "1. Load the source image and the reference image into the model.\n",
       "2. Generate a latent representation of the source image.\n",
       "3. Use the hint pathway to incorporate fine-grained features from the reference image into the latent representation.\n",
       "4. Decode the latent representation to generate the edited image.\n",
       "\n",
       "DTC is a powerful image editing technique that can be used for a variety of applications. It is easy to implement and can be used to create realistic and visually appealing images."
      ],
      "text/plain": [
       "<IPython.core.display.Markdown object>"
      ]
     },
     "execution_count": 36,
     "metadata": {},
     "output_type": "execute_result"
    }
   ],
   "source": [
    "follow_up_question = \"plaese give more details about it, including its use cases and implementation.\"\n",
    "\n",
    "Markdown(chain.invoke({\"question\":follow_up_question})['answer'])"
   ]
  },
  {
   "cell_type": "markdown",
   "id": "ef409888-0ea9-4461-8019-0ada93e200de",
   "metadata": {},
   "source": [
    "#### Create a function to instantiate the built-in ConversationalRetrievalChain"
   ]
  },
  {
   "cell_type": "code",
   "execution_count": 41,
   "id": "48234a26",
   "metadata": {},
   "outputs": [],
   "source": [
    "from langchain.chains import ConversationalRetrievalChain\n",
    "\n",
    "def create_ConversationalRetrievalChain(\n",
    "    llm,condense_question_llm,\n",
    "    retriever,\n",
    "    chain_type= 'stuff',\n",
    "    language=\"english\",\n",
    "    model_name='gpt-3.5-turbo'\n",
    "):\n",
    "    \"\"\"Create a ConversationalRetrievalChain.\n",
    "    First, it passes the follow-up question along with the chat history to an LLM which rephrases \n",
    "    the question and generates a standalone query. \n",
    "    This query is then sent to the retriever, which fetches relevant documents (context) \n",
    "    and passes them along with the standalone question and chat history to an LLM to answer.\n",
    "    \"\"\"\n",
    "    \n",
    "    # 1. Define the standalone_question prompt. \n",
    "    # Pass the follow-up question along with the chat history to the `condense_question_llm`\n",
    "    # which rephrases the question and generates a standalone question.\n",
    "\n",
    "    standalone_question_prompt = PromptTemplate(\n",
    "        input_variables=['chat_history', 'question'], \n",
    "        template=\"\"\"Given the following conversation and a follow up question, \n",
    "rephrase the follow up question to be a standalone question, in its original language.\\n\\n\n",
    "Chat History:\\n{chat_history}\\n\n",
    "Follow Up Input: {question}\\n\n",
    "Standalone question:\"\"\")\n",
    "\n",
    "    # 2. Define the answer_prompt\n",
    "    # Pass the standalone question + the chat history + the context (retrieved documents) to the `LLM` wihch will answer\n",
    "    \n",
    "    answer_prompt = ChatPromptTemplate.from_template(answer_template(language=language))\n",
    "\n",
    "    # 3. Add ConversationSummaryBufferMemory for gpt-3.5, and ConversationBufferMemory for the other models\n",
    "    \n",
    "    memory = create_memory(model_name)\n",
    "\n",
    "    # 4. Create the ConversationalRetrievalChain\n",
    "\n",
    "    chain = ConversationalRetrievalChain.from_llm(\n",
    "        condense_question_prompt=standalone_question_prompt,\n",
    "        combine_docs_chain_kwargs={'prompt': answer_prompt},\n",
    "        condense_question_llm=condense_question_llm,\n",
    "\n",
    "        memory=memory,\n",
    "        retriever = retriever,\n",
    "        llm=llm,\n",
    "\n",
    "        chain_type= chain_type,\n",
    "        verbose= False,\n",
    "        return_source_documents=True    \n",
    "    )\n",
    "\n",
    "    print(\"Conversational retriever chain created successfully!\")\n",
    "    \n",
    "    return chain,memory"
   ]
  },
  {
   "cell_type": "markdown",
   "id": "229b0c6b-f771-49c7-abb1-bd457cb694b4",
   "metadata": {},
   "source": [
    "# <a class=\"anchor\" id=\"conv_retrieval_chain_details\">Step-by-Step approach to Conversational Retrieval Chain</a>\n",
    "\n",
    "In the previous section, we leveraged the built-in `ConversationalRetrievalChain` to create our RAG model.\n",
    "\n",
    "In this section, we will use a step by step [approach](https://python.langchain.com/docs/expression_language/cookbook/retrieval), which will allow us to:\n",
    "- Understand what’s happening under the hood.\n",
    "- Customize the RAG chain. For example, we can return the standalone question, format retrieved documents..."
   ]
  },
  {
   "cell_type": "code",
   "execution_count": 42,
   "id": "14acc858-d291-4e2e-8b8a-f7fc505e8417",
   "metadata": {},
   "outputs": [],
   "source": [
    "from langchain.schema import format_document,Document\n",
    "from langchain_core.messages import get_buffer_string\n",
    "from langchain_core.runnables import RunnableLambda, RunnablePassthrough\n",
    "from operator import itemgetter"
   ]
  },
  {
   "cell_type": "markdown",
   "id": "f93ee5bc-f7ba-43ee-9f69-1a494e813ff4",
   "metadata": {},
   "source": [
    "### First step: Create a standalone_question chain\n",
    "\n",
    "Here, we load chat_history, pass the follow-up question along with the chat history to the LLM, which combines them and generates a standalone_question (new query)."
   ]
  },
  {
   "cell_type": "code",
   "execution_count": 43,
   "id": "95513fc5-d8d4-4266-91e9-8b20580c73e9",
   "metadata": {},
   "outputs": [
    {
     "data": {
      "text/plain": [
       "{'chat_history': []}"
      ]
     },
     "execution_count": 43,
     "metadata": {},
     "output_type": "execute_result"
    }
   ],
   "source": [
    "# We will use a simple `ConversationBufferMemory' here for simplicity.\n",
    "\n",
    "memory = ConversationBufferMemory(memory_key=\"chat_history\",output_key=\"answer\", input_key=\"question\",return_messages=True)\n",
    "memory.load_memory_variables({})"
   ]
  },
  {
   "cell_type": "code",
   "execution_count": 44,
   "id": "4a57f74b-c4a4-4de0-b235-ce16b46d2e07",
   "metadata": {},
   "outputs": [
    {
     "name": "stdout",
     "output_type": "stream",
     "text": [
      "{'chat_history': []}\n",
      "{'x': 1, 'chat_history': []}\n"
     ]
    }
   ],
   "source": [
    "# 1. load memory using RunnableLambda. Retrieves the chat_history attribute using itemgetter.\n",
    "# `RunnablePassthrough.assign` adds the chat_history to the assign function\n",
    "\n",
    "loaded_memory = RunnablePassthrough.assign(\n",
    "    chat_history=RunnableLambda(memory.load_memory_variables) | itemgetter(\"chat_history\"),\n",
    ")\n",
    "print(loaded_memory.invoke({}))\n",
    "print(loaded_memory.invoke({\"x\":1}))"
   ]
  },
  {
   "cell_type": "code",
   "execution_count": 45,
   "id": "a98477a2-03b9-48ed-b0f1-c22d4bdcab96",
   "metadata": {},
   "outputs": [],
   "source": [
    "# 2. Pass the follow-up question along with the chat history to the LLM, and parse the answer (standalone_question).\n",
    "\n",
    "condense_question_prompt = PromptTemplate(\n",
    "    input_variables=['chat_history', 'question'], \n",
    "    template=\"\"\"Given the following conversation and a follow up question (at the end), \n",
    "rephrase the follow up question to be a standalone question, in the same language as the follow up question.\\n\\n\n",
    "Chat History:\\n{chat_history}\\n\n",
    "Follow up question: {question}\\n\n",
    "Standalone question:\"\"\"\n",
    ")\n",
    "\n",
    "condense_question_llm = instantiate_LLM(\n",
    "    LLM_provider=\"Google\",api_key=google_api_key,temperature=0.1,\n",
    "    model_name=\"gemini-pro\"\n",
    ")\n",
    "\n",
    "standalone_question_chain = {\n",
    "    \"standalone_question\": {\n",
    "        \"question\": lambda x: x[\"question\"],\n",
    "        \"chat_history\": lambda x: get_buffer_string(x[\"chat_history\"]),\n",
    "    }\n",
    "    | condense_question_prompt\n",
    "    | condense_question_llm\n",
    "    | StrOutputParser(),\n",
    "}\n",
    "\n",
    "# 3. Combine load_memory and standalone_question_chain\n",
    "chain_question = loaded_memory | standalone_question_chain"
   ]
  },
  {
   "cell_type": "code",
   "execution_count": 46,
   "id": "4481381a-27eb-40a1-bcf0-300184ef4bb8",
   "metadata": {},
   "outputs": [
    {
     "name": "stdout",
     "output_type": "stream",
     "text": [
      "Chat history:\n",
      " {'chat_history': [HumanMessage(content='What does DTC stand for?'), AIMessage(content='Diffuse to Choose.')]}\n",
      "\n",
      "Follow-up question:\n",
      " plaese give more details about it, including its use cases and implementation.\n",
      "\n",
      "Standalone_question:\n",
      " What are the use cases and implementation of Diffuse to Choose (DTC)?\n"
     ]
    }
   ],
   "source": [
    "# Here is an example of how to invoke chain_question:\n",
    "\n",
    "memory.clear()\n",
    "memory.save_context(\n",
    "    {\"question\": \"What does DTC stand for?\"},\n",
    "    {\"answer\": \"Diffuse to Choose.\"}\n",
    ")\n",
    "\n",
    "print(\"Chat history:\\n\",memory.load_memory_variables({}))\n",
    "print(\"\\nFollow-up question:\\n\",\"plaese give more details about it, including its use cases and implementation.\")\n",
    "\n",
    "# invoke chain_question\n",
    "response = chain_question.invoke({\"question\":\"plaese give more details about it, including its use cases and implementation.\"})['standalone_question']\n",
    "print(\"\\nStandalone_question:\\n\",response)"
   ]
  },
  {
   "cell_type": "markdown",
   "id": "b22ce7bf-6296-407a-af0d-ddc06f1ffd2f",
   "metadata": {},
   "source": [
    "> **We can see that 'it' is replaced with \"Diffuse to Choose (DTC)\", which it refers to.**"
   ]
  },
  {
   "cell_type": "markdown",
   "id": "af35e9ba-7293-46cd-9c3a-a289af5121c8",
   "metadata": {},
   "source": [
    "### Step 2: Retrieve documents, pass them to the LLM along with the standalone question and chat history, and parse the response."
   ]
  },
  {
   "cell_type": "code",
   "execution_count": 47,
   "id": "28fe3b5d-bc7d-4520-9e2f-f521e52258d7",
   "metadata": {},
   "outputs": [
    {
     "name": "stdout",
     "output_type": "stream",
     "text": [
      "\n",
      "Cohere_reranker is created successfully!\n",
      "Relevant documents will be retrieved from vectorstore (Vit_All_Google_Embeddings) which uses Google embeddings and has 45 chunks.\n"
     ]
    }
   ],
   "source": [
    "# Create retriever \n",
    "retriever_Google = retrieval_blocks(\n",
    "    create_vectorstore=False,\n",
    "    LLM_service=\"Google\",\n",
    "    vectorstore_name=\"Vit_All_Google_Embeddings\",\n",
    "    retriever_type=\"Cohere_reranker\",\n",
    "    base_retriever_search_type=\"similarity\", base_retriever_k=12,\n",
    "    compression_retriever_k=16,\n",
    "    cohere_api_key=cohere_api_key,cohere_top_n=10,\n",
    ")"
   ]
  },
  {
   "cell_type": "code",
   "execution_count": 48,
   "id": "00c782c6-2270-487b-86b1-80b56e0266cb",
   "metadata": {},
   "outputs": [],
   "source": [
    "from langchain.schema import Document\n",
    "\n",
    "def _combine_documents(docs, document_prompt, document_separator=\"\\n\\n\"):\n",
    "    doc_strings = [format_document(doc, document_prompt) for doc in docs]\n",
    "    return document_separator.join(doc_strings)\n",
    "\n",
    "# Retrieve relevant documents\n",
    "retrieved_documents = {\n",
    "    \"docs\": itemgetter(\"standalone_question\") | retriever_Google,\n",
    "    \"question\": lambda x: x[\"standalone_question\"],\n",
    "}\n",
    "\n",
    "# Get variables ['chat_history', 'context', 'question'] that will be passed to `answer_prompt`\n",
    "\n",
    "DEFAULT_DOCUMENT_PROMPT = PromptTemplate.from_template(template=\"{page_content}\")\n",
    "answer_prompt = ChatPromptTemplate.from_template(answer_template()) # 3 variables are expected ['chat_history', 'context', 'question']\n",
    "\n",
    "answer_prompt_variables = {\n",
    "    \"context\": lambda x: _combine_documents(docs=x[\"docs\"],document_prompt=DEFAULT_DOCUMENT_PROMPT),\n",
    "    \"question\": itemgetter(\"question\"),\n",
    "    \"chat_history\": itemgetter(\"chat_history\") # get chat_history from `loaded_memory` variable\n",
    "}\n",
    "\n",
    "# Load memory, format `answer_prompt` with variables (context, question and chat_history) and pass the `answer_prompt to LLM.\n",
    "# return answer, docs and standalone_question\n",
    "\n",
    "llm = instantiate_LLM(\n",
    "    LLM_provider=\"Google\",api_key=google_api_key,temperature=0.5,\n",
    "    model_name=\"gemini-pro\"\n",
    ")\n",
    "\n",
    "chain_answer = {\n",
    "    \"answer\": loaded_memory | answer_prompt_variables | answer_prompt | llm,\n",
    "    \"docs\": lambda x: [\n",
    "        Document(page_content=doc.page_content,metadata=doc.metadata) # return only page_content and metadata (_DocumentWithState returns them + state.)\n",
    "        for doc in x[\"docs\"]\n",
    "    ], \n",
    "    \"standalone_question\": lambda x:x[\"question\"] # return standalone_question\n",
    "}"
   ]
  },
  {
   "cell_type": "markdown",
   "id": "990563dd",
   "metadata": {},
   "source": [
    "to create the conversational retrievre chain, let's chain the two chains: chain_question and chain_answer"
   ]
  },
  {
   "cell_type": "code",
   "execution_count": 49,
   "id": "fc2b8667",
   "metadata": {},
   "outputs": [],
   "source": [
    "conversational_retriever_chain = chain_question | retrieved_documents | chain_answer"
   ]
  },
  {
   "cell_type": "code",
   "execution_count": 50,
   "id": "22c71d25-4110-410f-88a6-b02d4a985feb",
   "metadata": {},
   "outputs": [
    {
     "data": {
      "text/plain": [
       "{'chat_history': [HumanMessage(content='What does DTC stand for?'),\n",
       "  AIMessage(content='Diffuse to Choose.')]}"
      ]
     },
     "execution_count": 50,
     "metadata": {},
     "output_type": "execute_result"
    }
   ],
   "source": [
    "memory.load_memory_variables({})"
   ]
  },
  {
   "cell_type": "code",
   "execution_count": 51,
   "id": "9e26d7c1-2aa5-438e-a535-2e96495efd30",
   "metadata": {},
   "outputs": [
    {
     "data": {
      "text/markdown": [
       "Diffuse to Choose (DTC) is a novel diffusion-based image-conditioned inpainting model that efficiently balances fast inference with the retention of high-fidelity details in a given reference item while ensuring accurate semantic manipulations in the given scene content. It is used for Virtual Try-All (Vit-All), which allows users to virtually visualize products in their settings. DTC is implemented by incorporating fine-grained features from the reference image directly into the latent feature maps of the main diffusion model, alongside with a perceptual loss to further preserve the reference item's details. It is trained on both in-house and publicly available datasets and has been shown to outperform existing zero-shot image-conditioned inpainting models. DTC can handle a variety of e-commerce products and can generate images using in-the-wild images and references. It can also infer how the product should look like, given a zero-shot example."
      ],
      "text/plain": [
       "<IPython.core.display.Markdown object>"
      ]
     },
     "execution_count": 51,
     "metadata": {},
     "output_type": "execute_result"
    }
   ],
   "source": [
    "follow_up_question = \"plaese give more details about it, including its use cases and implementation.\"\n",
    "\n",
    "response = conversational_retriever_chain.invoke({\"question\":follow_up_question})\n",
    "Markdown(response['answer'].content)"
   ]
  },
  {
   "cell_type": "code",
   "execution_count": 52,
   "id": "59da5606-64d5-46ff-9f66-c51cd1dc8045",
   "metadata": {},
   "outputs": [
    {
     "data": {
      "text/plain": [
       "{'chat_history': [HumanMessage(content='What does DTC stand for?'),\n",
       "  AIMessage(content='Diffuse to Choose.')]}"
      ]
     },
     "execution_count": 52,
     "metadata": {},
     "output_type": "execute_result"
    }
   ],
   "source": [
    "memory.load_memory_variables({})"
   ]
  },
  {
   "cell_type": "markdown",
   "id": "f5ea9a24-abcf-4d43-93d5-2710307c954f",
   "metadata": {},
   "source": [
    "As we can see, the memory does not update automatically. We need to manually save the follow-up question and AI response as follows:"
   ]
  },
  {
   "cell_type": "code",
   "execution_count": 53,
   "id": "7ae7bd7b-e2b6-4f95-b32e-db859263562c",
   "metadata": {},
   "outputs": [
    {
     "data": {
      "text/plain": [
       "{'chat_history': [HumanMessage(content='What does DTC stand for?'),\n",
       "  AIMessage(content='Diffuse to Choose.'),\n",
       "  HumanMessage(content='plaese give more details about it, including its use cases and implementation.'),\n",
       "  AIMessage(content=\"Diffuse to Choose (DTC) is a novel diffusion-based image-conditioned inpainting model that efficiently balances fast inference with the retention of high-fidelity details in a given reference item while ensuring accurate semantic manipulations in the given scene content. It is used for Virtual Try-All (Vit-All), which allows users to virtually visualize products in their settings. DTC is implemented by incorporating fine-grained features from the reference image directly into the latent feature maps of the main diffusion model, alongside with a perceptual loss to further preserve the reference item's details. It is trained on both in-house and publicly available datasets and has been shown to outperform existing zero-shot image-conditioned inpainting models. DTC can handle a variety of e-commerce products and can generate images using in-the-wild images and references. It can also infer how the product should look like, given a zero-shot example.\")]}"
      ]
     },
     "execution_count": 53,
     "metadata": {},
     "output_type": "execute_result"
    }
   ],
   "source": [
    "memory.save_context( {\"question\": follow_up_question}, {\"answer\": response['answer'].content} ) # update memory\n",
    "\n",
    "memory.load_memory_variables({})"
   ]
  },
  {
   "cell_type": "markdown",
   "id": "09af9174-87bb-4adb-a401-bb0e40e997d3",
   "metadata": {},
   "source": [
    "### Put it all together\n",
    "\n",
    "So far, we have seen how to create a ConversationalRetrievalChain step by step:\n",
    "1. Load chat_history, pass the follow-up question along with the chat history to the LLM, and parse the standalone question.\n",
    "2. Retrieve documents, pass them to the LLM along with the standalone question and chat history, and parse the response.\n",
    "\n",
    "Let's put it all together."
   ]
  },
  {
   "cell_type": "code",
   "execution_count": 54,
   "id": "bfcfab44-3f36-4a70-a157-3f3b8ef36e7c",
   "metadata": {},
   "outputs": [],
   "source": [
    "def answer_template(language=\"english\"):\n",
    "    \"\"\"Pass the standalone question along with the chat history and context (retrieved documents) to the `LLM` to get an answer.\"\"\"\n",
    "    \n",
    "    template = f\"\"\"Answer the question at the end, using only the following context (delimited by <context></context>).\n",
    "Your answer must be in the language at the end. \n",
    "\n",
    "<context>\n",
    "{{chat_history}}\n",
    "\n",
    "{{context}} \n",
    "</context>\n",
    "\n",
    "Question: {{question}}\n",
    "\n",
    "Language: {language}.\n",
    "\"\"\"\n",
    "    return template\n",
    "    \n",
    "def _combine_documents(docs, document_prompt, document_separator=\"\\n\\n\"):\n",
    "    doc_strings = [format_document(doc, document_prompt) for doc in docs]\n",
    "    return document_separator.join(doc_strings)\n",
    "\n",
    "def custom_ConversationalRetrievalChain(\n",
    "    llm,condense_question_llm,\n",
    "    retriever,\n",
    "    language=\"english\",\n",
    "    llm_provider=\"OpenAI\",\n",
    "    model_name='gpt-3.5-turbo',\n",
    "):\n",
    "    \"\"\"Create a ConversationalRetrievalChain step by step.\n",
    "    \"\"\"\n",
    "    ##############################################################\n",
    "    # Step 1: Create a standalone_question chain\n",
    "    ##############################################################\n",
    "    \n",
    "    # 1. Create memory: ConversationSummaryBufferMemory for gpt-3.5, and ConversationBufferMemory for the other models\n",
    "    \n",
    "    memory = create_memory(model_name)\n",
    "    # memory = ConversationBufferMemory(memory_key=\"chat_history\",output_key=\"answer\", input_key=\"question\",return_messages=True)\n",
    "\n",
    "    # 2. load memory using RunnableLambda. Retrieves the chat_history attribute using itemgetter.\n",
    "    loaded_memory = RunnablePassthrough.assign(\n",
    "        chat_history=RunnableLambda(memory.load_memory_variables) | itemgetter(\"chat_history\"),\n",
    "    )\n",
    "\n",
    "    # 3. Pass the follow-up question along with the chat history to the LLM, and parse the answer (standalone_question).\n",
    "\n",
    "    condense_question_prompt = PromptTemplate(\n",
    "        input_variables=['chat_history', 'question'], \n",
    "        template = \"\"\"Given the following conversation and a follow up question, \n",
    "rephrase the follow up question to be a standalone question, in the same language as the follow up question.\\n\\n\n",
    "Chat History:\\n{chat_history}\\n\n",
    "Follow Up Input: {question}\\n\n",
    "Standalone question:\"\"\"        \n",
    ")\n",
    "        \n",
    "    standalone_question_chain = {\n",
    "        \"standalone_question\": {\n",
    "            \"question\": lambda x: x[\"question\"],\n",
    "            \"chat_history\": lambda x: get_buffer_string(x[\"chat_history\"]),\n",
    "        }\n",
    "        | condense_question_prompt\n",
    "        | condense_question_llm\n",
    "        | StrOutputParser(),\n",
    "    }\n",
    "    \n",
    "    # 4. Combine load_memory and standalone_question_chain\n",
    "    chain_question = loaded_memory | standalone_question_chain\n",
    "    \n",
    "    ####################################################################################\n",
    "    #   Step 2: Retrieve documents, pass them to the LLM, and return the response.\n",
    "    ####################################################################################\n",
    "\n",
    "    # 5. Retrieve relevant documents\n",
    "    retrieved_documents = {\n",
    "        \"docs\": itemgetter(\"standalone_question\") | retriever,\n",
    "        \"question\": lambda x: x[\"standalone_question\"],\n",
    "    }\n",
    "    \n",
    "    # 6. Get variables ['chat_history', 'context', 'question'] that will be passed to `answer_prompt`\n",
    "    \n",
    "    DEFAULT_DOCUMENT_PROMPT = PromptTemplate.from_template(template=\"{page_content}\")\n",
    "    answer_prompt = ChatPromptTemplate.from_template(answer_template(language=language)) \n",
    "    # 3 variables are expected ['chat_history', 'context', 'question'] by the ChatPromptTemplate   \n",
    "    answer_prompt_variables = {\n",
    "        \"context\": lambda x: _combine_documents(docs=x[\"docs\"],document_prompt=DEFAULT_DOCUMENT_PROMPT),\n",
    "        \"question\": itemgetter(\"question\"),\n",
    "        \"chat_history\": itemgetter(\"chat_history\") # get it from `loaded_memory` variable\n",
    "    }\n",
    "    \n",
    "    # 7. Load memory, format `answer_prompt` with variables (context, question and chat_history) and pass the `answer_prompt to LLM.\n",
    "    # return answer, docs and standalone_question\n",
    "    \n",
    "    chain_answer = {\n",
    "        \"answer\": loaded_memory | answer_prompt_variables | answer_prompt | llm,\n",
    "        # return only page_content and metadata \n",
    "        \"docs\": lambda x: [Document(page_content=doc.page_content,metadata=doc.metadata) for doc in x[\"docs\"]],\n",
    "        \"standalone_question\": lambda x:x[\"question\"] # return standalone_question\n",
    "    }\n",
    "\n",
    "    # 8. Final chain\n",
    "    conversational_retriever_chain = chain_question | retrieved_documents | chain_answer\n",
    "\n",
    "    print(\"Conversational retriever chain created successfully!\")\n",
    "\n",
    "    return conversational_retriever_chain,memory"
   ]
  },
  {
   "cell_type": "markdown",
   "id": "28b59604-28de-4c45-9ff1-1f0027ea69f5",
   "metadata": {},
   "source": [
    "# <a class=\"anchor\" id=\"invoke_chain\">Invoke ConversationalRetrievalChain</a>\n",
    "Now that we have successfully created our RAG system, it's time to test it."
   ]
  },
  {
   "cell_type": "code",
   "execution_count": null,
   "id": "9cf37ae2-a1a2-4d2f-9817-410df4a2d0a9",
   "metadata": {},
   "outputs": [],
   "source": [
    "# QUESTIONS\n",
    "questions = [\"what does DTC stands for?\",\n",
    "             \"plaese give more details about it, including its use cases and implementation.\",\n",
    "             \"does it outperform other diffusion-based models? explain in details.\",\n",
    "             \"what is Langchain?\"]"
   ]
  },
  {
   "cell_type": "markdown",
   "id": "6fa6ecac-b959-42a6-b8ce-a9db776b1f9a",
   "metadata": {},
   "source": [
    "### Invoke custom ConversationalRetrievalChain - HuggingFace (Mistral-7B-Instruct-v0.2)"
   ]
  },
  {
   "cell_type": "code",
   "execution_count": 56,
   "id": "520178fb-96f2-4cc2-ae59-71edd79db8d8",
   "metadata": {},
   "outputs": [
    {
     "name": "stdout",
     "output_type": "stream",
     "text": [
      "\n",
      "Cohere_reranker is created successfully!\n",
      "Relevant documents will be retrieved from vectorstore (Vit_All_HF_Embeddings) which uses HuggingFace embeddings and has 45 chunks.\n",
      "Conversational retriever chain created successfully!\n"
     ]
    }
   ],
   "source": [
    "# Instantiate the retriever and the ConversationalRetrievalChain :\n",
    "\n",
    "retriever_HF = retrieval_blocks(\n",
    "    create_vectorstore=False,\n",
    "    LLM_service=\"HuggingFace\",\n",
    "    vectorstore_name=\"Vit_All_HF_Embeddings\",\n",
    "    retriever_type=\"Cohere_reranker\",\n",
    "    base_retriever_search_type=\"similarity\", base_retriever_k=16,\n",
    "    compression_retriever_k=20,\n",
    "    cohere_api_key=cohere_api_key,cohere_top_n=10,\n",
    ")\n",
    "\n",
    "chain_HF,memory_HF = custom_ConversationalRetrievalChain(\n",
    "    llm = instantiate_LLM(\n",
    "        LLM_provider=\"HuggingFace\",api_key=HF_key,temperature=0.5,\n",
    "        model_name=\"mistralai/Mistral-7B-Instruct-v0.2\"\n",
    "    ),\n",
    "    condense_question_llm = instantiate_LLM(\n",
    "        LLM_provider=\"HuggingFace\",api_key=HF_key,temperature=0.5,\n",
    "        model_name=\"mistralai/Mistral-7B-Instruct-v0.2\"\n",
    "    ),\n",
    "    retriever=retriever_HF,\n",
    "    language=\"english\",\n",
    "    llm_provider=\"HuggingFace\",\n",
    "    model_name=\"Mistral-7B-Instruct-v0.2\"\n",
    ")"
   ]
  },
  {
   "cell_type": "code",
   "execution_count": 57,
   "id": "b96df38c-0878-4486-9111-67efd1c312c7",
   "metadata": {},
   "outputs": [
    {
     "data": {
      "text/markdown": [
       "**Question:** what does DTC stands for?\n",
       "\n",
       "**Standalone_question:** What is the meaning of DTC?\n",
       "\n",
       "**Answer:** Diffuse to Choose (DTC) is a novel diffusion-based image-conditioned inpainting model presented in the paper \"Diffuse to Choose: Enriching Image Conditioned Inpainting in Latent Diffusion Models for Virtual Try-All\" by Mehmet Saygin Seyfioglu, Karim Bouyarmane, Suren Kumar Amir Tavanaei, and Ismail B. Tutar. It is designed for the Virtual Try-All use case to integrate e-commerce items into user images while preserving item details. It uses a secondary U-Net to infuse fine-grained signals from the reference image into the primary U-Net decoder using basic affine transformation layers within a latent diffusion model. DTC is shown to outperform existing diffusion-based inpainting models and few-shot personalization methods."
      ],
      "text/plain": [
       "<IPython.core.display.Markdown object>"
      ]
     },
     "execution_count": 57,
     "metadata": {},
     "output_type": "execute_result"
    }
   ],
   "source": [
    "# Answer the first question\n",
    "\n",
    "memory_HF.clear()\n",
    "\n",
    "response = chain_HF.invoke({\"question\":questions[0]})\n",
    "    \n",
    "answer = response['answer']\n",
    "answer = answer[answer.find(\"\\nAnswer: \")+len(\"\\nAnswer: \"):]\n",
    "\n",
    "Markdown(\"**Question:** \"+questions[0]+\"\\n\\n\"\\\n",
    "+\"**Standalone_question:**\"+response['standalone_question']+\"\\n\\n\"\\\n",
    "+\"**Answer:** \"+answer)"
   ]
  },
  {
   "cell_type": "code",
   "execution_count": 58,
   "id": "fc82fd23-0390-4d20-84d0-e99712472148",
   "metadata": {},
   "outputs": [
    {
     "data": {
      "text/markdown": [
       "**Source:  (Page: 0)**\n",
       "\n",
       "Page content: Diffuse to Choose: Enriching Image Conditioned Inpainting in Latent Diffusion\n",
       "Models for Virtual Try-All\n",
       "Mehmet Saygin Seyfioglu* Karim Bouyarmane†\n",
       "Suren Kumar Amir Tavanaei Ismail B. Tutar\n",
       "Amazon\n",
       "https://diffuse2choose.github.io\n",
       "Figure 1. Diffuse to Choose (DTC) allows users to virtually place any e-commerce item in any setting, ensuring detailed, semantically\n",
       "coherent blending with realistic lighting and shadows.\n",
       "Abstract\n",
       "As online shopping is growing, the ability for buyers to\n",
       "virtually visualize products in their settings—a phenomenon\n",
       "we define as “Virtual Try-All”—has become crucial. Re-\n",
       "cent diffusion models inherently contain a world model,\n",
       "rendering them suitable for this task within an inpaint-\n",
       "ing context. However, traditional image-conditioned diffu-\n",
       "sion models often fail to capture the fine-grained details of\n",
       "products. In contrast, personalization-driven models such\n",
       "*University of Washington, work done during an internship at Amazon.\n",
       "†Correspondence at Amazon: bouykari@amazon.comas DreamPaint are good at preserving the item’s details\n",
       "but they are not optimized for real-time applications. We\n",
       "present ”Diffuse to Choose, ” a novel diffusion-based image-\n",
       "conditioned inpainting model that efficiently balances fast\n",
       "inference with the retention of high-fidelity details in a given\n",
       "reference item while ensuring accurate semantic manipula-\n",
       "tions in the given scene content. Our approach is based\n",
       "on incorporating fine-grained features from the reference\n",
       "image directly into the latent feature maps of the main dif-\n",
       "fusion model, alongside with a perceptual loss to further\n",
       "\n",
       "\n",
       "**Source:  (Page: 1)**\n",
       "\n",
       "Page content: coder. Inspired by ControlNet [42], we integrate a pixel-\n",
       "level “hint” into the masked region of an empty image,\n",
       "which is then processed through a shallow convolutional\n",
       "network, ensuring dimensional alignment with the masked\n",
       "image processed by the Variational Autoencoder (V AE).\n",
       "DTC harmoniously blends the source and reference images,\n",
       "maintaining the integrity and details of the reference im-\n",
       "age. To further enhance alignment of basic features such as\n",
       "color, we employ perceptual loss using a pre-trained VGG\n",
       "model [7]. The complete architecture is illustrated in Fig. 2,\n",
       "with examples showcased in Fig. 1 and Fig. 5.\n",
       "DTC effectively fulfills all three criteria for the Vit-All\n",
       "use case: 1) It efficiently handles in-the-wild images and\n",
       "references, 2) It adeptly preserves the fine-grained details\n",
       "of products while ensuring their seamless integration into\n",
       "the scene, and 3) It facilitates rapid zero-shot inference. We\n",
       "trained DTC on an in-house training dataset with sampled\n",
       "1.2M source-reference pairs and a smaller public dataset,\n",
       "VITON-HD-NoFace [5]1. Our quantitative evaluations and\n",
       "human studies demonstrate that DTC surpasses all PBE\n",
       "variants — for which we implemented several enhance-\n",
       "ments to facilitate a fair comparison against DTC — and\n",
       "matches the performance of non-real-time, few-shot person-\n",
       "alization models like DreamPaint [28], within the Vit-All\n",
       "context.\n",
       "2. Related Work\n",
       "Virtual Try-On . The primary goal of virtual try-on ap-\n",
       "proaches is to create an image of a person wearing a tar-\n",
       "1The VITON-HD public dataset was modified to remove and crop all\n",
       "\n",
       "\n",
       "**Source:  (Page: 12)**\n",
       "\n",
       "Page content: Resize & \n",
       "Stitch Reference Image \n",
       "Find the \n",
       "largest \n",
       "bbox Mask \n",
       "Insert \n",
       "bbox into \n",
       "an image \n",
       "of zeros \n",
       "Figure 11. We find the largest rectangular bounding box inside an fine-grained binary mask. Then the same coordinates are used to stitch\n",
       "the reference image into an image of zeros to create the initial hint signal.\n",
       "Figure 12. DTC allows users to manipulate different styles of the same clothing by adjusting the mask (given in the row above for each\n",
       "image). The first two columns display variations of the same t-shirt, showcasing it both tucked out and tucked in. The third and fourth\n",
       "columns illustrate the same shirt with normal sleeves and with sleeves rolled up.\n",
       "trolled environments with sanitized backgrounds, and often\n",
       "necessitate additional inputs like pose or depth maps. Also,\n",
       "it is already established that diffusion-based approaches are\n",
       "superior to GANs in performance, possessing more compre-\n",
       "hensive world models [41]. Consequently, diffusion-based\n",
       "models are more apt for the Vit-All use case.The scope of our comparison models is intentionally lim-\n",
       "ited. Personalization models such as ELITE [35], Custom\n",
       "Diffusion [16], DreamBooth [26], and Textual Inversion [6]\n",
       "lack inpainting capabilities, as they aim to directly generate\n",
       "entire views. DreamPaint [28] is the only exception with in-\n",
       "painting support. Among the models that facilitate inpaint-\n",
       "2\n",
       "\n",
       "\n",
       "**Source:  (Page: 5)**\n",
       "\n",
       "Page content: Figure 5. DTC can handle variety of e-commerce products and can generate images using in-the-wild images & references.\n",
       "6\n",
       "\n",
       "\n",
       "**Source:  (Page: 7)**\n",
       "\n",
       "Page content: are presented in Fig. 8. Furthermore, we conducted a sub-\n",
       "jective human survey, the results of which are tabulated in\n",
       "Table 3. A total of 20 participants scored each image on\n",
       "a scale from 1 to 5, with 1 being the best, based on both\n",
       "the inpainted region’s similarity to the reference image and\n",
       "its contextual blending. The results show that DTC, despite\n",
       "being a zero-shot model, performs on par with DreamPaint,\n",
       "which requires few-shot fine-tuning with multiple xr.\n",
       "5. Conclusion and Limitations\n",
       "Limitations. DTC has limitations. Despite our efforts to in-\n",
       "ject fine-grained details, the model may still overlook fine-\n",
       "grained details, particularly in text engravings, a challenge\n",
       "inherent to Stable Diffusion (see Fig. 7). Additionally, the\n",
       "model might alter human poses since it doesn’t consider\n",
       "pose, leading to discrepancies with pose-agnostic mask-\n",
       "ing, especially for full-body coverage (see Fig. 10 in the\n",
       "Appendix). Introducing pose conditioning could mitigate\n",
       "this, but we prioritized a general-purpose model over task-\n",
       "specific auxiliary inputs for broader applicability.\n",
       "Conclusion. In this paper, we introduced ”Diffuse to\n",
       "Choose,” a novel image-conditioned diffusion inpainting\n",
       "model designed for the Virtual Try-All, aiming to integrate\n",
       "e-commerce items into user images while preserving item\n",
       "details. Our main contributions include employing a sec-\n",
       "ondary U-Net to infuse fine-grained signals from the ref-\n",
       "erence image into the primary U-Net decoder using basic\n",
       "affine transformation layers within a latent diffusion model.\n",
       "Moreover, we refined the PBE model for peak performance\n",
       "\n",
       "\n",
       "**Source:  (Page: 7)**\n",
       "\n",
       "Page content: items with minimal details, it often falls short in the inpaint-\n",
       "ing of detailed items. In contrast, DTC exhibits superior\n",
       "performance, especially in preserving the fine-grained de-\n",
       "tails of items. Figure 9 illustrates the outcomes achieved\n",
       "with certain enhancements.\n",
       "Comparisons Against Few-Shot Personalization Meth-\n",
       "Table 2. Quantitative comparison of PBE variants on VITONHD-\n",
       "NoFace [5].\n",
       "Method CLIP Score ( ↑) FID ( ↓)\n",
       "PBE CLIP cls[40] 82.43 9.54\n",
       "+ PBE CLIP all 84.01 8.93\n",
       "+ PBE DINOv2 87.48 6.18\n",
       "+ PBE perceptual 87.79 5.93\n",
       "Ours 90.14 5.39Table 3. The average results of the small-scale human evaluation\n",
       "study. Similarity evaluates the resemblance of the inpainted re-\n",
       "gion to the reference image, while Semantic Blending assesses the\n",
       "accuracy of the reference image’s integration within its context.\n",
       "Method Similarity ( ↓) Semantic Blending ( ↓)\n",
       "PBE best 3.7 3.13\n",
       "DreamPaint [28] 2.83 2.53\n",
       "Ours 2.9 2.5\n",
       "ods. While personalization methods such as DreamBooth\n",
       "[26] do not support inpainting, the recently introduced\n",
       "DreamPaint approach [28] enables similar few-shot fine-\n",
       "tuning of the U-Net in a masked setting, allowing for the\n",
       "generation of specified concepts at user-defined locations.\n",
       "However, DreamPaint requires few-shot fine-tuning with\n",
       "multiple product images, taking about 40 minutes per prod-\n",
       "uct to be trained. We manually selected 30 samples to com-\n",
       "pare DTC with DreamPaint and PBE. Visual comparisons\n",
       "are presented in Fig. 8. Furthermore, we conducted a sub-\n",
       "jective human survey, the results of which are tabulated in\n",
       "Table 3. A total of 20 participants scored each image on\n",
       "\n",
       "\n",
       "**Source:  (Page: 2)**\n",
       "\n",
       "Page content: U-NetdecoderFiLMVAE encoder\n",
       "U-Net encoder\n",
       "VAE decoder\n",
       "MLPU-Net encoderAdapter\n",
       "Image encoder\n",
       "+Resize and insert+SourceMask\n",
       "ReferenceHint\n",
       "Hint SignalGeneratedGaussian NoiseImage ConditionMasked\n",
       "Frozen modulesTrainable modulesDiffuse-To-Choose (DTC) training pipeline for Virtual Try-All (Vit-All)\n",
       "Figure 2. Pipeline of Diffuse to Choose. The process initiates with masking the source image, followed by inserting the reference image\n",
       "within the masked area. This pixel-level ‘hint’ is then adapted by a shallow CNN to align with the V AE output dimensions of the source\n",
       "image. Subsequently, a U-Net Encoder processes the adapted hint. Then, at each U-Net scale, a FiLM module affinely aligns the skip-\n",
       "connected features from the main U-Net Encoder and pixel-level features from the hint U-Net Encoder. Finally, these aligned feature maps,\n",
       "in conjunction with the main image conditioning, facilitate the inpainting of the masked region. Red indicates trainable modules and blue\n",
       "indicates frozen modules.\n",
       "get garment, ensuring that the garment’s fine-grained de-\n",
       "tails are preserved and that it blends seamlessly with its sur-\n",
       "rounding context. Since this is a highly domain-specific\n",
       "and constrained problem (models and garments are of-\n",
       "ten not presented in in-the-wild examples), existing mod-\n",
       "els generally employ warp and paste (blend) techniques,\n",
       "leveraging extra inputs such as pose and human parse\n",
       "maps [3, 5, 7, 12, 17, 18, 37–39]. VITON [8] uses a two-\n",
       "step synthesis and refinement process, initially generating\n",
       "a coarse image with the desired clothing and then refining\n",
       "\n",
       "\n",
       "**Source:  (Page: 13)**\n",
       "\n",
       "Page content: Figure 13. Diffuse to Choose allows users to iteratively decorate an empty room from scratch.\n",
       "Figure 14. Diffuse to Choose allows users to iteratively try out combination of clothes.\n",
       "ing, including PBE [40] and DreamPaint, we attempted to\n",
       "employ DCCF [38]. However, its tendency to create copy-\n",
       "paste artifacts made it unsuitable for the Vit-All task, where\n",
       "semantically blending the item with its environment is as\n",
       "crucial as preserving its detailed features.\n",
       "5.8. More Examples\n",
       "We provide more qualitative examples to showcase DTC’s\n",
       "capabilities. Please see Fig. 17, 18, 15 for more examples.\n",
       "3\n",
       "\n",
       "\n",
       "**Source:  (Page: 7)**\n",
       "\n",
       "Page content: erence image into the primary U-Net decoder using basic\n",
       "affine transformation layers within a latent diffusion model.\n",
       "Moreover, we refined the PBE model for peak performance\n",
       "achievable with straightforward image-conditioned inpaint-\n",
       "ing models. We compared DTC with upgraded PBE vari-\n",
       "ants and a few-shot personalization methods using datasets\n",
       "like VITONHD-NoFace and a larger in-house dataset and\n",
       "show that DTC outperforms existing diffusion based in-\n",
       "8\n",
       "\n",
       "\n",
       "**Source:  (Page: 7)**\n",
       "\n",
       "Page content: Table 1. Quantitative comparison between DTC variants and\n",
       "PBE best, which denotes a PBE variant using DINOv2 and percep-\n",
       "tual loss. CA denotes Cross-Attention.\n",
       "Method CLIP Score ( ↑) FID ( ↓)\n",
       "PBE best 85.43 6.65\n",
       "Ours addition 86.94 6.19\n",
       "Ours CA 88.01 5.68\n",
       "Ours FiLM 88.14 5.72\n",
       "integration of more computationally expensive Cross Atten-\n",
       "tion layers [43]. Results shown on Tab. 1 revealed that both\n",
       "FiLM and Cross Attention layers outperform direct addi-\n",
       "tion. Also, Cross Attention and FiLM yield comparable re-\n",
       "sults, and FiLM is cheaper to compute, therefore we chose\n",
       "to use FiLM in our final model.\n",
       "Figure 7. Failure cases with generating fine-grained text.\n",
       "4.4. Evaluation and Comparisons\n",
       "Comparison Against Paint by Example Variants. We\n",
       "implemented a series of enhancements to PBE and trained\n",
       "each variant on VITONHD-NoFace dataset. The results are\n",
       "presented in Table 2. As anticipated, using all CLIP patches\n",
       "surpasses the performance of using only the [CLS] token,\n",
       "which is limited to encoding a generalized version of xr.\n",
       "Furthermore, augmenting the size of the image encoder by\n",
       "using DINOv2 notably enhances performance. Notably, the\n",
       "addition of perceptual loss provides a marginal improve-\n",
       "ment in scenarios where the model initially struggled with\n",
       "basic features, such as color. While PBE, particularly with\n",
       "DINOv2 and perceptual loss, is adept at handling basic\n",
       "items with minimal details, it often falls short in the inpaint-\n",
       "ing of detailed items. In contrast, DTC exhibits superior\n",
       "performance, especially in preserving the fine-grained de-\n",
       "\n",
       "\n"
      ],
      "text/plain": [
       "<IPython.core.display.Markdown object>"
      ]
     },
     "execution_count": 58,
     "metadata": {},
     "output_type": "execute_result"
    }
   ],
   "source": [
    "# display source documents\n",
    "\n",
    "documents_content = \"\"\n",
    "for document in response['docs']:\n",
    "    try:\n",
    "        page = \" (Page: \" + str(document.metadata[\"page\"]) + \")\"\n",
    "    except:\n",
    "        page = \"\"\n",
    "    documents_content += (\n",
    "        \"**Source: \"\n",
    "        # + str(document.metadata[\"source\"])\n",
    "        + page\n",
    "        + \"**\\n\\n\"\n",
    "    )\n",
    "    documents_content += (\n",
    "        \"Page content: \" + document.page_content + \"\\n\\n\\n\"\n",
    "    )\n",
    "\n",
    "Markdown(documents_content)"
   ]
  },
  {
   "cell_type": "markdown",
   "id": "ac05fd0f-c3bf-4c2a-bcd8-58f316bad7b2",
   "metadata": {},
   "source": [
    "**Now, let's invoke the chain to obtain answers to all the questions.**"
   ]
  },
  {
   "cell_type": "code",
   "execution_count": 59,
   "id": "be5a603f-66cb-476a-91f4-a8d11856cdcd",
   "metadata": {},
   "outputs": [
    {
     "name": "stdout",
     "output_type": "stream",
     "text": [
      "Question[0]: what does DTC stands for?\n",
      "Standalone_question:  What is the meaning of DTC?\n",
      "Answer:\n",
      " Diffuse to Choose (DTC) is a novel diffusion-based image-conditioned inpainting model presented in the paper \"Diffuse to Choose: Enriching Image Conditioned Inpainting in Latent Diffusion Models for Virtual Try-All\" by Mehmet Saygin Seyfioglu, Karim Bouyarmane, Suren Kumar Amir Tavanaei, and Ismail B. Tutar. It is designed for the Virtual Try-All use case to integrate e-commerce items into user images while preserving item details. It uses a secondary U-Net to infuse fine-grained signals from the reference image into the primary U-Net decoder using basic affine transformation layers within a latent diffusion model. DTC is shown to outperform existing diffusion-based inpainting models and few-shot personalization methods. \n",
      "\n",
      "----------------------------------------------------------------------------------------------------\n",
      "\n",
      "Question[1]: plaese give more details about it, including its use cases and implementation.\n",
      "Standalone_question:  Could you please provide more details about the use cases and implementation of the DTC (Diffuse to Choose) model?\n",
      "Answer:\n",
      " The DTC (Diffuse to Choose) model is a novel diffusion-based image-conditioned inpainting model designed for the Virtual Try-All use case in e-commerce, which allows users to integrate e-commerce items into their user images while preserving item details. The model uses a secondary U-Net to infuse fine-grained signals from the reference image into the primary U-Net decoder using basic affine transformation layers within a latent diffusion model. The purpose of the auxiliary U-Net is to protect the details of the reference image that might be lost due to the latent nature of the Stable Diffusion model and the limitations of image conditioning. The pipeline of Diffuse to Choose includes masking the source image, inserting the reference image within the masked area, adapting the hint, processing the adapted hint through a U-Net Encoder, and aligning the skip-connected features from the main U-Net Encoder and pixel-level features from the hint U-Net Encoder to facilitate the inpainting of the masked region. The model is efficient in inference and is superior to existing zero-shot painting approaches in the Virtual Try-All setting. Users can manipulate clothing styles by using masking and can guide the model to generate a t-shirt in a tucked-in style, or with sleeves rolled up, among other variations. The model has been tested extensively on both in-house and publicly available datasets and has shown superior performance. \n",
      "\n",
      "----------------------------------------------------------------------------------------------------\n",
      "\n",
      "Question[2]: does it outperform other diffusion-based models? explain in details.\n",
      "Standalone_question:  Does DTC outperform other diffusion-based image-conditioned inpainting models in terms of performance? If so, how does it achieve this improvement?\n",
      "Answer:\n",
      " Yes, DTC outperforms other diffusion-based image-conditioned inpainting models in terms of performance. DTC achieves this improvement by directly infusing fine-grained details of the reference image into the main U-Net's decoder via affine transformations, ensuring preservation of the reference product's details in the generated image. The secondary U-Net encoder is used to integrate pixel-level guidance, which is a crucial aspect for retaining fine-grained details of each item. DTC's pipeline effectively balances fast inference with the retention of high-fidelity details, making it suitable for the Virtual Try-All application. \n",
      "\n",
      "----------------------------------------------------------------------------------------------------\n",
      "\n",
      "Question[3]: what is Langchain?\n",
      "Standalone_question:  What is Langchain and what are its features or applications?\n",
      "Answer:\n",
      " Langchain is not mentioned in the provided context. The context discusses DTC (Diffuse to Choose), a novel diffusion-based image-conditioned inpainting model designed for the Virtual Try-All use case in e-commerce. DTC uses a secondary U-Net to infuse fine-grained signals from the reference image into the primary U-Net decoder, ensuring preservation of the reference product's details in the generated image. It is efficient in inference and outperforms existing zero-shot painting approaches in the Virtual Try-All setting. Users can manipulate clothing styles by using masking and can guide the model to generate a t-shirt in a tucked-in style, or with sleeves rolled up, among other variations. The model has been tested extensively on both in-house and publicly available datasets and has shown superior performance. \n",
      "\n",
      "----------------------------------------------------------------------------------------------------\n",
      "\n",
      "CPU times: total: 172 ms\n",
      "Wall time: 10.2 s\n"
     ]
    }
   ],
   "source": [
    "%%time\n",
    "\n",
    "memory_HF.clear()\n",
    "responses =  []\n",
    "\n",
    "for i,question in enumerate(questions):\n",
    "    response = chain_HF.invoke({\"question\":question})\n",
    "    responses.append(response)\n",
    "    \n",
    "    answer = response['answer']\n",
    "    answer = answer[answer.find(\"\\nAnswer: \")+len(\"\\nAnswer: \"):]\n",
    "    print(f\"Question[{i}]:\",question)\n",
    "    print(\"Standalone_question:\",response['standalone_question'])\n",
    "    print(\"Answer:\\n\",answer,f\"\\n\\n{'-' * 100}\\n\")\n",
    "    \n",
    "    memory_HF.save_context( {\"question\": question}, {\"answer\": answer} ) # update memory"
   ]
  },
  {
   "cell_type": "markdown",
   "id": "ca14ad30-c156-482c-9876-b00ab2efbbc5",
   "metadata": {},
   "source": [
    "### Invoke custom ConversationalRetrievalChain - OpenAI"
   ]
  },
  {
   "cell_type": "code",
   "execution_count": 60,
   "id": "2e948ff1-4fe8-4cb3-8bee-a2d3b019c73d",
   "metadata": {},
   "outputs": [
    {
     "name": "stdout",
     "output_type": "stream",
     "text": [
      "\n",
      "Cohere_reranker is created successfully!\n",
      "Relevant documents will be retrieved from vectorstore (Vit_All_OpenAI_Embeddings) which uses OpenAI embeddings and has 45 chunks.\n",
      "Conversational retriever chain created successfully!\n"
     ]
    }
   ],
   "source": [
    "# Instantiate the retriever and the ConversationalRetrievalChain :\n",
    "\n",
    "retriever_OpenAI = retrieval_blocks(\n",
    "    create_vectorstore=False,\n",
    "    LLM_service=\"OpenAI\",\n",
    "    vectorstore_name=\"Vit_All_OpenAI_Embeddings\",\n",
    "    retriever_type=\"Cohere_reranker\",\n",
    "    base_retriever_search_type=\"similarity\", base_retriever_k=10,\n",
    "    compression_retriever_k=16,\n",
    "    cohere_api_key=cohere_api_key,cohere_top_n=8,\n",
    ")\n",
    "\n",
    "chain_openAI,memory_openAI = custom_ConversationalRetrievalChain(\n",
    "    llm = instantiate_LLM(\n",
    "        LLM_provider=\"OpenAI\",model_name=\"gpt-3.5-turbo\",api_key=openai_api_key,temperature=0.5\n",
    "    ),\n",
    "    condense_question_llm = instantiate_LLM(\n",
    "        LLM_provider=\"OpenAI\",model_name=\"gpt-3.5-turbo\",api_key=openai_api_key,temperature=0.1\n",
    "    ), \n",
    "    retriever=retriever_OpenAI,\n",
    "    language=\"english\",\n",
    "    llm_provider=\"OpenAI\",\n",
    "    model_name=\"gpt-3.5-turbo-0125\"\n",
    ")"
   ]
  },
  {
   "cell_type": "code",
   "execution_count": 61,
   "id": "8039503c-d995-4dc5-ae16-d174b7de6557",
   "metadata": {},
   "outputs": [
    {
     "name": "stdout",
     "output_type": "stream",
     "text": [
      "Question[0]: what does DTC stands for?\n",
      "Standalone_question: What is the meaning of DTC?\n",
      "Answer:\n",
      " The meaning of DTC is \"Diffuse to Choose,\" which refers to a novel diffusion-based image-conditioned inpainting model designed for the Virtual Try-All application. \n",
      "\n",
      "----------------------------------------------------------------------------------------------------\n",
      "\n",
      "Question[1]: plaese give more details about it, including its use cases and implementation.\n",
      "Standalone_question: Can you provide more information about DTC, including its use cases and implementation?\n",
      "Answer:\n",
      " DTC, which stands for \"Diffuse to Choose,\" is a novel diffusion-based image-conditioned inpainting model designed for the Virtual Try-All application. It aims to integrate e-commerce items into user images while preserving the fine-grained details of the items. DTC effectively blends the source and reference images, ensuring the integrity and details of the reference image. It utilizes a pixel-level \"hint\" in the masked region of an empty image, which is processed through a shallow convolutional network. DTC also employs perceptual loss using a pre-trained VGG model to enhance alignment of basic features like color. The model is trained on an in-house dataset and a smaller public dataset. DTC fulfills the criteria for the Vit-All use case by efficiently handling in-the-wild images and references, preserving fine-grained details, and facilitating rapid zero-shot inference. It outperforms other models and matches the performance of non-real-time, few-shot personalization models like DreamPaint. DTC allows users to virtually place any e-commerce item in any setting, ensuring detailed, semantically coherent blending with realistic lighting and shadows. It can handle a variety of e-commerce products and generate images using in-the-wild images and references. DTC enables applications like iteratively decorating an empty room or trying out combinations of clothes. The model has limitations in capturing fine-grained details, particularly in text engravings, and may alter human poses. However, it prioritizes a general-purpose model for broader applicability. DTC incorporates fine-grained features from the reference image into the main diffusion model, ensuring accurate semantic manipulations in the given scene content. It has been implemented using Stable Diffusion v1-5 and DINOV2 for image encoding. The model is efficient in inference and can run on a GPU in approximately 6 seconds. \n",
      "\n",
      "----------------------------------------------------------------------------------------------------\n",
      "\n",
      "Question[2]: does it outperform other diffusion-based models? explain in details.\n",
      "Standalone_question: Can you explain in detail how DTC outperforms other diffusion-based models?\n",
      "Answer:\n",
      " DTC, which stands for \"Diffuse to Choose,\" is a diffusion-based image-conditioned inpainting model designed for the Virtual Try-All application. It aims to integrate e-commerce items into user images while preserving the fine-grained details of the items. DTC effectively blends the source and reference images, ensuring the integrity and details of the reference image. It utilizes a pixel-level \"hint\" in the masked region of an empty image, which is processed through a shallow convolutional network. DTC also employs perceptual loss using a pre-trained VGG model to enhance alignment of basic features like color.\n",
      "\n",
      "DTC has been implemented using Stable Diffusion v1-5 and DINOV2 for image encoding. The model is trained on an in-house dataset and a smaller public dataset. It fulfills the criteria for the Vit-All use case by efficiently handling in-the-wild images and references, preserving fine-grained details, and facilitating rapid zero-shot inference. It outperforms other diffusion-based models and matches the performance of non-real-time, few-shot personalization models like DreamPaint.\n",
      "\n",
      "DTC allows users to virtually place any e-commerce item in any setting, ensuring detailed, semantically coherent blending with realistic lighting and shadows. It can handle a variety of e-commerce products and generate images using in-the-wild images and references. DTC enables applications like iteratively decorating an empty room or trying out combinations of clothes.\n",
      "\n",
      "In summary, DTC outperforms other diffusion-based models by effectively blending source and reference images, preserving fine-grained details, and facilitating rapid zero-shot inference. It enables detailed, semantically coherent blending of e-commerce items in user images and supports a wide range of applications. \n",
      "\n",
      "----------------------------------------------------------------------------------------------------\n",
      "\n",
      "Question[3]: what is Langchain?\n",
      "Standalone_question: Can you provide more information about Langchain?\n",
      "Answer:\n",
      " I'm sorry, but there is no information available about Langchain in the given context. \n",
      "\n",
      "----------------------------------------------------------------------------------------------------\n",
      "\n",
      "CPU times: total: 203 ms\n",
      "Wall time: 2min 12s\n"
     ]
    }
   ],
   "source": [
    "%%time\n",
    "\n",
    "memory_openAI.clear()\n",
    "responses = []\n",
    "for i,question in enumerate(questions):\n",
    "    response = chain_openAI.invoke({\"question\":question})\n",
    "    responses.append(response)\n",
    "    \n",
    "    answer = response['answer'].content\n",
    "    print(f\"Question[{i}]:\",question)\n",
    "    print(\"Standalone_question:\",response['standalone_question'])\n",
    "    print(\"Answer:\\n\",answer,f\"\\n\\n{'-' * 100}\\n\")\n",
    "    \n",
    "    memory_openAI.save_context( {\"question\": question}, {\"answer\": answer} ) # update memory"
   ]
  },
  {
   "cell_type": "markdown",
   "id": "fa96cbba-bcef-44a8-bcf3-7b1d6f5c63ab",
   "metadata": {},
   "source": [
    "### Invoke custom ConversationalRetrievalChain - Google gemini-pro"
   ]
  },
  {
   "cell_type": "code",
   "execution_count": 62,
   "id": "d1eb876f-d728-4761-b4d6-c90283acb7e5",
   "metadata": {},
   "outputs": [
    {
     "name": "stdout",
     "output_type": "stream",
     "text": [
      "\n",
      "Cohere_reranker is created successfully!\n",
      "Relevant documents will be retrieved from vectorstore (Vit_All_Google_Embeddings) which uses Google embeddings and has 45 chunks.\n",
      "Conversational retriever chain created successfully!\n"
     ]
    }
   ],
   "source": [
    "# Instantiate the retriever and the ConversationalRetrievalChain :\n",
    "\n",
    "retriever_Google = retrieval_blocks(\n",
    "    create_vectorstore=False,\n",
    "    LLM_service=\"Google\",\n",
    "    vectorstore_name=\"Vit_All_Google_Embeddings\",\n",
    "    retriever_type=\"Cohere_reranker\",\n",
    "    base_retriever_search_type=\"similarity\", base_retriever_k=12,\n",
    "    compression_retriever_k=16,\n",
    "    cohere_api_key=cohere_api_key,cohere_top_n=10,\n",
    ")\n",
    "\n",
    "chain_gemini,memory_gemini = custom_ConversationalRetrievalChain(\n",
    "    llm = instantiate_LLM(\n",
    "        LLM_provider=\"Google\",api_key=google_api_key,temperature=0.5,model_name=\"gemini-pro\"\n",
    "    ),\n",
    "    condense_question_llm = instantiate_LLM(\n",
    "        LLM_provider=\"Google\",api_key=google_api_key,temperature=0.1,model_name=\"gemini-pro\"),\n",
    "    retriever=retriever_Google,\n",
    "    language=\"english\",\n",
    "    llm_provider=\"Google\",\n",
    "    model_name=\"gemini-pro\"\n",
    ")"
   ]
  },
  {
   "cell_type": "code",
   "execution_count": 63,
   "id": "bb9a7a23-a8c2-4edd-a416-c7d87f0bff48",
   "metadata": {},
   "outputs": [
    {
     "name": "stdout",
     "output_type": "stream",
     "text": [
      "Question[0]: what does DTC stands for?\n",
      "Standalone_question: What is the full form of DTC?\n",
      "Answer:\n",
      " Diffuse to Choose \n",
      "\n",
      "----------------------------------------------------------------------------------------------------\n",
      "\n",
      "Question[1]: plaese give more details about it, including its use cases and implementation.\n",
      "Standalone_question: What are the use cases and implementation of Diffuse to Choose (DTC)?\n",
      "Answer:\n",
      " Diffuse to Choose (DTC) is a novel diffusion-based image-conditioned inpainting model that efficiently balances fast inference with the retention of high-fidelity details in a given reference item while ensuring accurate semantic manipulations in the given scene content. It is used for Virtual Try-All (Vit-All), which allows users to virtually visualize products in their settings. DTC is implemented by incorporating fine-grained features from the reference image directly into the latent feature maps of the main diffusion model, alongside with a perceptual loss to further preserve the reference item's details. It is trained on both in-house and publicly available datasets and has been shown to outperform existing zero-shot image-conditioned inpainting models. DTC can handle a variety of e-commerce products and can generate images using in-the-wild images and references. It can also infer how the product should look like, given a zero-shot example. \n",
      "\n",
      "----------------------------------------------------------------------------------------------------\n",
      "\n",
      "Question[2]: does it outperform other diffusion-based models? explain in details.\n",
      "Standalone_question: How does Diffuse to Choose (DTC) compare to other diffusion-based models in terms of performance and capabilities? Provide a detailed explanation.\n",
      "Answer:\n",
      " Diffuse to Choose (DTC) outperforms existing zero-shot image-conditioned inpainting models in terms of performance and capabilities. It achieves this by incorporating fine-grained features from the reference image directly into the latent feature maps of the main diffusion model, alongside with a perceptual loss to further preserve the reference item's details. This approach allows DTC to generate images with high-fidelity details and accurate semantic manipulations, while maintaining fast inference speed.\n",
      "\n",
      "In comparison to other diffusion-based models, DTC demonstrates several advantages:\n",
      "\n",
      "1. **Preservation of Fine-Grained Details:** DTC excels at preserving the fine-grained details of products, such as intricate patterns, textures, and logos. This is particularly important for e-commerce applications, where accurate representation of product details is crucial for customer satisfaction.\n",
      "\n",
      "2. **Accurate Semantic Manipulations:** DTC enables precise semantic manipulations of the generated images, allowing users to seamlessly integrate e-commerce items into their settings. This is achieved by incorporating a perceptual loss that guides the model to maintain the semantic consistency between the reference item and the generated image.\n",
      "\n",
      "3. **Fast Inference Speed:** Despite its superior performance, DTC maintains fast inference speed, making it suitable for real-time applications. This is a significant advantage over personalization-driven models, which often require extensive fine-tuning and can be computationally expensive.\n",
      "\n",
      "4. **Versatility:** DTC can handle a wide variety of e-commerce products, including clothing, furniture, and accessories. It can also generate images using in-the-wild images and references, demonstrating its adaptability to different scenarios.\n",
      "\n",
      "Overall, DTC offers a compelling combination of performance, capabilities, and versatility, making it a promising solution for image-conditioned inpainting tasks, particularly in the context of Virtual Try-All applications. \n",
      "\n",
      "----------------------------------------------------------------------------------------------------\n",
      "\n",
      "Question[3]: what is Langchain?\n",
      "Standalone_question: What is Langchain?\n",
      "Answer:\n",
      " The provided context does not mention anything about Langchain, so I cannot answer this question. \n",
      "\n",
      "----------------------------------------------------------------------------------------------------\n",
      "\n",
      "CPU times: total: 141 ms\n",
      "Wall time: 31.9 s\n"
     ]
    }
   ],
   "source": [
    "%%time\n",
    "\n",
    "memory_gemini.clear()\n",
    "\n",
    "for i,question in enumerate(questions):\n",
    "    response = chain_gemini.invoke({\"question\":question})\n",
    "    answer = response['answer'].content\n",
    "    print(f\"Question[{i}]:\",question)\n",
    "    print(\"Standalone_question:\",response['standalone_question'])\n",
    "    print(\"Answer:\\n\",answer,f\"\\n\\n{'-' * 100}\\n\")\n",
    "    \n",
    "    memory_gemini.save_context( {\"question\": question}, {\"answer\": answer} ) # update memory"
   ]
  },
  {
   "cell_type": "code",
   "execution_count": null,
   "id": "b18e9388-49ba-47c4-8b48-a76d83d53f11",
   "metadata": {},
   "outputs": [],
   "source": []
  },
  {
   "cell_type": "markdown",
   "id": "fd31847f-7220-45d1-88dc-e95107cfd21e",
   "metadata": {},
   "source": [
    "# <a class=\"anchor\" id=\"streamlit_app\">Streamlit applicationn</a> \n",
    "\n",
    "We built a streamlit application using the RAG chatbot we defined in this notebook. \n",
    "Here is a screenshot."
   ]
  },
  {
   "cell_type": "code",
   "execution_count": 64,
   "id": "5e5b2ee2-9fbf-4729-ae48-31130c2540e8",
   "metadata": {},
   "outputs": [
    {
     "data": {
      "image/png": "[encoded data removed]",
      "text/plain": [
       "<PIL.PngImagePlugin.PngImageFile image mode=RGBA size=1350x637>"
      ]
     },
     "execution_count": 64,
     "metadata": {},
     "output_type": "execute_result"
    }
   ],
   "source": [
    "Image.open(\"./data/docs/screenshots/streamlit_app_1.png\")"
   ]
  },
  {
   "cell_type": "markdown",
   "id": "d738d3a6-27c7-4171-a7c4-5e33e4b7ec69",
   "metadata": {},
   "source": [
    "- In the sidebar, you can select the LLM provider, choose an LLM, adjust its parameters, and insert your API keys.\n",
    "\n",
    "- In the main panel, you can create or load a Chroma vectorstore and display or clear the chat messages."
   ]
  },
  {
   "cell_type": "markdown",
   "id": "a793c71e-fc94-4b41-ab6b-af3d27049e7d",
   "metadata": {},
   "source": [
    "# <a class=\"anchor\" id=\"conclusion\">Concluding</a> "
   ]
  },
  {
   "cell_type": "markdown",
   "id": "0d7695cf-59b4-40b5-b155-2bb7c7e8bdfe",
   "metadata": {},
   "source": [
    "In this project, we covered all the steps of creating a RAG chatbot in Langchain, from loading documents to creating a conversational retrieval chain.\n",
    "Additionally, we developed a Streamlit application.\n",
    "\n",
    "Our RAG chatbot was powered by OpenAI, Google Generative AI and Hugging Face **APIs**. An alternative option is to run open-source quantized models **[locally](https://python.langchain.com/docs/guides/local_llms)** to protect privacy and avoid inference fees. These models can be run with frameworks such as [llama.cpp](https://github.com/ggerganov/llama.cpp) and [Ollama](https://github.com/ggerganov/llama.cpp).\n"
   ]
  },
  {
   "cell_type": "code",
   "execution_count": null,
   "id": "707f7d72-e3e4-44f8-8a78-3d677ad42a5e",
   "metadata": {},
   "outputs": [],
   "source": []
  },
  {
   "cell_type": "code",
   "execution_count": null,
   "id": "c5d07557-2e16-4b85-a364-10b4429aec73",
   "metadata": {},
   "outputs": [],
   "source": []
  },
  {
   "cell_type": "code",
   "execution_count": null,
   "id": "ce16600b-5e39-4338-a3ec-397c3d399f3c",
   "metadata": {},
   "outputs": [],
   "source": []
  }
 ],
 "metadata": {
  "kernelspec": {
   "display_name": "Python 3 (ipykernel)",
   "language": "python",
   "name": "python3"
  },
  "language_info": {
   "codemirror_mode": {
    "name": "ipython",
    "version": 3
   },
   "file_extension": ".py",
   "mimetype": "text/x-python",
   "name": "python",
   "nbconvert_exporter": "python",
   "pygments_lexer": "ipython3",
   "version": "3.10.9"
  }
 },
 "nbformat": 4,
 "nbformat_minor": 5
}
